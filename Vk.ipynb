{
 "cells": [
  {
   "cell_type": "code",
   "execution_count": 8,
   "metadata": {},
   "outputs": [],
   "source": [
    "import pandas as pd\n",
    "import numpy as np\n",
    "import sklearn\n",
    "import matplotlib.pyplot as plt\n",
    "import seaborn as sb"
   ]
  },
  {
   "cell_type": "code",
   "execution_count": 86,
   "metadata": {},
   "outputs": [],
   "source": [
    "df = pd.read_csv('globalcount_data.csv')"
   ]
  },
  {
   "cell_type": "code",
   "execution_count": 10,
   "metadata": {},
   "outputs": [
    {
     "data": {
      "text/html": [
       "<div>\n",
       "<style scoped>\n",
       "    .dataframe tbody tr th:only-of-type {\n",
       "        vertical-align: middle;\n",
       "    }\n",
       "\n",
       "    .dataframe tbody tr th {\n",
       "        vertical-align: top;\n",
       "    }\n",
       "\n",
       "    .dataframe thead th {\n",
       "        text-align: right;\n",
       "    }\n",
       "</style>\n",
       "<table border=\"1\" class=\"dataframe\">\n",
       "  <thead>\n",
       "    <tr style=\"text-align: right;\">\n",
       "      <th></th>\n",
       "      <th>row_id</th>\n",
       "      <th>unique_id</th>\n",
       "      <th>survey_type</th>\n",
       "      <th>iso3166</th>\n",
       "      <th>surveydate</th>\n",
       "      <th>city_town</th>\n",
       "      <th>city_town_tr</th>\n",
       "      <th>country_of_residence</th>\n",
       "      <th>gender_not_listed</th>\n",
       "      <th>cisgender_man</th>\n",
       "      <th>...</th>\n",
       "      <th>npo_1</th>\n",
       "      <th>npo_2</th>\n",
       "      <th>npo_3</th>\n",
       "      <th>progress_10_years</th>\n",
       "      <th>npo_1_tr</th>\n",
       "      <th>npo_2_tr</th>\n",
       "      <th>npo_3_tr</th>\n",
       "      <th>progress_10_years_tr</th>\n",
       "      <th>language</th>\n",
       "      <th>langauge_score</th>\n",
       "    </tr>\n",
       "  </thead>\n",
       "  <tbody>\n",
       "    <tr>\n",
       "      <th>0</th>\n",
       "      <td>2</td>\n",
       "      <td>12327918977</td>\n",
       "      <td>long</td>\n",
       "      <td>UK</td>\n",
       "      <td>1/15/2021 19:26</td>\n",
       "      <td>Maidstone</td>\n",
       "      <td>Maidstone</td>\n",
       "      <td>United Kingdom of Great Britain and Northern I...</td>\n",
       "      <td>0</td>\n",
       "      <td>0</td>\n",
       "      <td>...</td>\n",
       "      <td>NaN</td>\n",
       "      <td>NaN</td>\n",
       "      <td>NaN</td>\n",
       "      <td>NaN</td>\n",
       "      <td>NaN</td>\n",
       "      <td>NaN</td>\n",
       "      <td>NaN</td>\n",
       "      <td>NaN</td>\n",
       "      <td>NaN</td>\n",
       "      <td>NaN</td>\n",
       "    </tr>\n",
       "    <tr>\n",
       "      <th>1</th>\n",
       "      <td>3</td>\n",
       "      <td>12327959040</td>\n",
       "      <td>long</td>\n",
       "      <td>UK</td>\n",
       "      <td>1/15/2021 19:46</td>\n",
       "      <td>Maidstone</td>\n",
       "      <td>Maidstone</td>\n",
       "      <td>United Kingdom of Great Britain and Northern I...</td>\n",
       "      <td>0</td>\n",
       "      <td>0</td>\n",
       "      <td>...</td>\n",
       "      <td>Na</td>\n",
       "      <td>na</td>\n",
       "      <td>NaN</td>\n",
       "      <td>NaN</td>\n",
       "      <td>On</td>\n",
       "      <td>on</td>\n",
       "      <td>ON</td>\n",
       "      <td>NaN</td>\n",
       "      <td>pl</td>\n",
       "      <td>1.00</td>\n",
       "    </tr>\n",
       "    <tr>\n",
       "      <th>2</th>\n",
       "      <td>4</td>\n",
       "      <td>12340367937</td>\n",
       "      <td>long</td>\n",
       "      <td>CA</td>\n",
       "      <td>1/20/2021 20:22</td>\n",
       "      <td>Waterloo</td>\n",
       "      <td>Waterloo</td>\n",
       "      <td>Canada</td>\n",
       "      <td>0</td>\n",
       "      <td>0</td>\n",
       "      <td>...</td>\n",
       "      <td>NaN</td>\n",
       "      <td>NaN</td>\n",
       "      <td>NaN</td>\n",
       "      <td>NaN</td>\n",
       "      <td>NaN</td>\n",
       "      <td>NaN</td>\n",
       "      <td>NaN</td>\n",
       "      <td>NaN</td>\n",
       "      <td>NaN</td>\n",
       "      <td>NaN</td>\n",
       "    </tr>\n",
       "    <tr>\n",
       "      <th>3</th>\n",
       "      <td>5</td>\n",
       "      <td>12340336342</td>\n",
       "      <td>long</td>\n",
       "      <td>CH</td>\n",
       "      <td>1/20/2021 20:29</td>\n",
       "      <td>Zuerich</td>\n",
       "      <td>Zuerich</td>\n",
       "      <td>Switzerland</td>\n",
       "      <td>0</td>\n",
       "      <td>0</td>\n",
       "      <td>...</td>\n",
       "      <td>Amnesty International</td>\n",
       "      <td>Frauenstreik Züeich</td>\n",
       "      <td>Schweizerischer Gewerkschaftsbund &amp; VPOD Gewer...</td>\n",
       "      <td>Gleichstellung und Respekt bei der Arbeit, gle...</td>\n",
       "      <td>Amnesty International</td>\n",
       "      <td>Frauenstreik Züeich</td>\n",
       "      <td>Swiss Trade Union Confederation &amp; VPOD Trade U...</td>\n",
       "      <td>Equality and respect at work, the same AHV for...</td>\n",
       "      <td>de</td>\n",
       "      <td>0.97</td>\n",
       "    </tr>\n",
       "    <tr>\n",
       "      <th>4</th>\n",
       "      <td>6</td>\n",
       "      <td>12340427318</td>\n",
       "      <td>long</td>\n",
       "      <td>BE</td>\n",
       "      <td>1/20/2021 20:47</td>\n",
       "      <td>Brussels</td>\n",
       "      <td>Brussels</td>\n",
       "      <td>Belgium</td>\n",
       "      <td>1</td>\n",
       "      <td>0</td>\n",
       "      <td>...</td>\n",
       "      <td>SINGA</td>\n",
       "      <td>SINGA</td>\n",
       "      <td>NaN</td>\n",
       "      <td>More women in high political positions. Access...</td>\n",
       "      <td>SINGA</td>\n",
       "      <td>SINGA</td>\n",
       "      <td>NaN</td>\n",
       "      <td>More women in high political positions. Access...</td>\n",
       "      <td>en</td>\n",
       "      <td>1.00</td>\n",
       "    </tr>\n",
       "  </tbody>\n",
       "</table>\n",
       "<p>5 rows × 92 columns</p>\n",
       "</div>"
      ],
      "text/plain": [
       "   row_id    unique_id survey_type iso3166       surveydate  city_town  \\\n",
       "0       2  12327918977        long      UK  1/15/2021 19:26  Maidstone   \n",
       "1       3  12327959040        long      UK  1/15/2021 19:46  Maidstone   \n",
       "2       4  12340367937        long      CA  1/20/2021 20:22   Waterloo   \n",
       "3       5  12340336342        long      CH  1/20/2021 20:29    Zuerich   \n",
       "4       6  12340427318        long      BE  1/20/2021 20:47   Brussels   \n",
       "\n",
       "  city_town_tr                               country_of_residence  \\\n",
       "0    Maidstone  United Kingdom of Great Britain and Northern I...   \n",
       "1    Maidstone  United Kingdom of Great Britain and Northern I...   \n",
       "2     Waterloo                                             Canada   \n",
       "3      Zuerich                                        Switzerland   \n",
       "4     Brussels                                            Belgium   \n",
       "\n",
       "   gender_not_listed  cisgender_man  ...                  npo_1  \\\n",
       "0                  0              0  ...                    NaN   \n",
       "1                  0              0  ...                     Na   \n",
       "2                  0              0  ...                    NaN   \n",
       "3                  0              0  ...  Amnesty International   \n",
       "4                  1              0  ...                  SINGA   \n",
       "\n",
       "                 npo_2                                              npo_3  \\\n",
       "0                  NaN                                                NaN   \n",
       "1                   na                                                NaN   \n",
       "2                  NaN                                                NaN   \n",
       "3  Frauenstreik Züeich  Schweizerischer Gewerkschaftsbund & VPOD Gewer...   \n",
       "4                SINGA                                                NaN   \n",
       "\n",
       "                                   progress_10_years               npo_1_tr  \\\n",
       "0                                                NaN                    NaN   \n",
       "1                                                NaN                     On   \n",
       "2                                                NaN                    NaN   \n",
       "3  Gleichstellung und Respekt bei der Arbeit, gle...  Amnesty International   \n",
       "4  More women in high political positions. Access...                  SINGA   \n",
       "\n",
       "              npo_2_tr                                           npo_3_tr  \\\n",
       "0                  NaN                                                NaN   \n",
       "1                   on                                                 ON   \n",
       "2                  NaN                                                NaN   \n",
       "3  Frauenstreik Züeich  Swiss Trade Union Confederation & VPOD Trade U...   \n",
       "4                SINGA                                                NaN   \n",
       "\n",
       "                                progress_10_years_tr  language  langauge_score  \n",
       "0                                                NaN       NaN             NaN  \n",
       "1                                                NaN        pl            1.00  \n",
       "2                                                NaN       NaN             NaN  \n",
       "3  Equality and respect at work, the same AHV for...        de            0.97  \n",
       "4  More women in high political positions. Access...        en            1.00  \n",
       "\n",
       "[5 rows x 92 columns]"
      ]
     },
     "execution_count": 10,
     "metadata": {},
     "output_type": "execute_result"
    }
   ],
   "source": [
    "df.head()"
   ]
  },
  {
   "cell_type": "code",
   "execution_count": 87,
   "metadata": {},
   "outputs": [
    {
     "name": "stdout",
     "output_type": "stream",
     "text": [
      "<class 'pandas.core.frame.DataFrame'>\n",
      "RangeIndex: 24051 entries, 0 to 24050\n",
      "Data columns (total 92 columns):\n",
      " #   Column                                                   Non-Null Count  Dtype  \n",
      "---  ------                                                   --------------  -----  \n",
      " 0   row_id                                                   24051 non-null  int64  \n",
      " 1   unique_id                                                24051 non-null  int64  \n",
      " 2   survey_type                                              24051 non-null  object \n",
      " 3   iso3166                                                  24046 non-null  object \n",
      " 4   surveydate                                               24051 non-null  object \n",
      " 5   city_town                                                24049 non-null  object \n",
      " 6   city_town_tr                                             20503 non-null  object \n",
      " 7   country_of_residence                                     24050 non-null  object \n",
      " 8   gender_not_listed                                        24051 non-null  int64  \n",
      " 9   cisgender_man                                            24051 non-null  int64  \n",
      " 10  cisgender_woman                                          24051 non-null  int64  \n",
      " 11  non_conforming_or_non_binary                             24051 non-null  int64  \n",
      " 12  gender_choose_not_to_identify                            24051 non-null  int64  \n",
      " 13  man                                                      24051 non-null  int64  \n",
      " 14  transgender_man                                          24051 non-null  int64  \n",
      " 15  transgender_woman                                        24051 non-null  int64  \n",
      " 16  woman                                                    24051 non-null  int64  \n",
      " 17  racial_identity_not_listed                               24051 non-null  int64  \n",
      " 18  asian                                                    24051 non-null  int64  \n",
      " 19  biracial_or_mixed                                        24051 non-null  int64  \n",
      " 20  black_or_of_african_descent                              24051 non-null  int64  \n",
      " 21  hispanic_or_latinx                                       24051 non-null  int64  \n",
      " 22  choose_not_to_identify                                   24051 non-null  int64  \n",
      " 23  indigenous                                               24051 non-null  int64  \n",
      " 24  indigenous_central_or_south_american                     24051 non-null  int64  \n",
      " 25  middle_eastern                                           24051 non-null  int64  \n",
      " 26  native_american                                          24051 non-null  int64  \n",
      " 27  native_hawaiian                                          24051 non-null  int64  \n",
      " 28  north_african                                            24051 non-null  int64  \n",
      " 29  pacific_islander                                         24051 non-null  int64  \n",
      " 30  south_asian                                              24051 non-null  int64  \n",
      " 31  southeast_asian                                          24051 non-null  int64  \n",
      " 32  white                                                    24051 non-null  int64  \n",
      " 33  age                                                      19503 non-null  object \n",
      " 34  issue_person_civil_rights_and_freedoms                   24051 non-null  int64  \n",
      " 35  issue_person_disability_rights                           24051 non-null  int64  \n",
      " 36  issue_person_economic_and_workers_rights                 24051 non-null  int64  \n",
      " 37  issue_person_education_and_youth_empowerment             24051 non-null  int64  \n",
      " 38  issue_person_ending_violence_harassment_and_abuse        24051 non-null  int64  \n",
      " 39  issue_person_environmental_justice                       24051 non-null  int64  \n",
      " 40  issue_person_immigrant_and_refugee_rights                24051 non-null  int64  \n",
      " 41  issue_person_indigenous_andor_roma_rights                24051 non-null  int64  \n",
      " 42  issue_person_LGBTQI+_rights                              24051 non-null  int64  \n",
      " 43  issue_person_racial_equity                               24051 non-null  int64  \n",
      " 44  issue_person_reproductive_freedom_and_bodily_autonomy    24051 non-null  int64  \n",
      " 45  issue_person_sexual_reproductive_and_parental_health     24051 non-null  int64  \n",
      " 46  barrier_person_civil_rights_and_freedoms                 6004 non-null   object \n",
      " 47  barrier_person_disability_rights                         1917 non-null   object \n",
      " 48  barrier_person_economic_and_workers_rights               4202 non-null   object \n",
      " 49  barrier_person_education_and_youth_empowerment           7050 non-null   object \n",
      " 50  barrier_person_ending_violence_harassment_and_abuse      12081 non-null  object \n",
      " 51  barrier_person_environmental_justice                     4589 non-null   object \n",
      " 52  barrier_person_immigrant_and_refugee_rights              1671 non-null   object \n",
      " 53  barrier_person_indigenous_andor_roma_rights              577 non-null    object \n",
      " 54  barrier_person_LGBTQI+_rights                            2076 non-null   object \n",
      " 55  barrier_racial_equity                                    3794 non-null   object \n",
      " 56  barrier_person_reproductive_freedom_and_bodily_autonomy  2034 non-null   object \n",
      " 57  barrier_person_sexual_reproductive_and_parental_health   2885 non-null   object \n",
      " 58  issue_city_civil_rights_and_freedoms                     24051 non-null  int64  \n",
      " 59  issue_city_disability_rights                             24051 non-null  int64  \n",
      " 60  issue_city_economic_and_workers_rights                   24051 non-null  int64  \n",
      " 61  issue_city_education_and_youth_empowerment               24051 non-null  int64  \n",
      " 62  issue_city_ending_violence_harassment_and_abuse          24051 non-null  int64  \n",
      " 63  issue_city_environmental_justice                         24051 non-null  int64  \n",
      " 64  issue_city_immigrant_and_refugee_rights                  24051 non-null  int64  \n",
      " 65  issue_city_indigenous_andor_roma_rights                  24051 non-null  int64  \n",
      " 66  issue_city_LGBTQI+_rights                                24051 non-null  int64  \n",
      " 67  issue_city_racial_equity                                 24051 non-null  int64  \n",
      " 68  issue_city_reproductive_freedom_and_bodily_autonomy      24051 non-null  int64  \n",
      " 69  issue_city_sexual_reproductive_and_parental_health       24051 non-null  int64  \n",
      " 70  barrier_city_civil_rights_and_freedoms                   2028 non-null   object \n",
      " 71  barrier_city_disability_rights                           936 non-null    object \n",
      " 72  barrier_city_economic_and_workers_rights                 2718 non-null   object \n",
      " 73  barrier_city_education_and_youth_empowerment             2662 non-null   object \n",
      " 74  barrier_city_ending_violence_harassment_and_abuse        3665 non-null   object \n",
      " 75  barrier_city_environmental_justice                       2003 non-null   object \n",
      " 76  barrier_city_immigrant_and_refugee_rights                1468 non-null   object \n",
      " 77  barrier_city_indigenous_andor_roma_rights                338 non-null    object \n",
      " 78  barrier_city_LGBTQI+_rights                              978 non-null    object \n",
      " 79  barrier_city_racial_equity                               1539 non-null   object \n",
      " 80  barrier_city_reproductive_freedom_and_bodily_autonomy    423 non-null    object \n",
      " 81  barrier_city_sexual_reproductive_and_parental_health     934 non-null    object \n",
      " 82  npo_1                                                    8609 non-null   object \n",
      " 83  npo_2                                                    7000 non-null   object \n",
      " 84  npo_3                                                    6009 non-null   object \n",
      " 85  progress_10_years                                        11429 non-null  object \n",
      " 86  npo_1_tr                                                 8602 non-null   object \n",
      " 87  npo_2_tr                                                 6997 non-null   object \n",
      " 88  npo_3_tr                                                 6008 non-null   object \n",
      " 89  progress_10_years_tr                                     11426 non-null  object \n",
      " 90  language                                                 12954 non-null  object \n",
      " 91  langauge_score                                           12954 non-null  float64\n",
      "dtypes: float64(1), int64(51), object(40)\n",
      "memory usage: 16.9+ MB\n"
     ]
    }
   ],
   "source": [
    "df.info()"
   ]
  },
  {
   "cell_type": "code",
   "execution_count": 13,
   "metadata": {},
   "outputs": [
    {
     "data": {
      "text/plain": [
       "Switzerland           2335\n",
       "Belarus               2151\n",
       "Russian Federation    1913\n",
       "Ukraine               1338\n",
       "Kazakhstan            1320\n",
       "                      ... \n",
       "Mongolia                 1\n",
       "Liechtenstein            1\n",
       "Cyprus                   1\n",
       "Gabon                    1\n",
       "Guyana                   1\n",
       "Name: country_of_residence, Length: 155, dtype: int64"
      ]
     },
     "execution_count": 13,
     "metadata": {},
     "output_type": "execute_result"
    }
   ],
   "source": [
    "df['country_of_residence'].value_counts().sort_values(ascending = False)"
   ]
  },
  {
   "cell_type": "code",
   "execution_count": 14,
   "metadata": {},
   "outputs": [
    {
     "data": {
      "text/plain": [
       "<AxesSubplot:>"
      ]
     },
     "execution_count": 14,
     "metadata": {},
     "output_type": "execute_result"
    },
    {
     "data": {
      "image/png": "[encoded data removed]",
      "text/plain": [
       "<Figure size 1440x576 with 1 Axes>"
      ]
     },
     "metadata": {
      "needs_background": "light"
     },
     "output_type": "display_data"
    }
   ],
   "source": [
    "# ch is switzerland\n",
    "df['iso3166'].value_counts().sort_values(ascending = False)[:99].plot(kind = 'bar', figsize = (20,8), color = 'red')"
   ]
  },
  {
   "cell_type": "code",
   "execution_count": 15,
   "metadata": {},
   "outputs": [
    {
     "data": {
      "text/plain": [
       "<AxesSubplot:>"
      ]
     },
     "execution_count": 15,
     "metadata": {},
     "output_type": "execute_result"
    },
    {
     "data": {
      "image/png": "[encoded data removed]",
      "text/plain": [
       "<Figure size 504x504 with 1 Axes>"
      ]
     },
     "metadata": {
      "needs_background": "light"
     },
     "output_type": "display_data"
    }
   ],
   "source": [
    "df['age'].value_counts().sort_values(ascending = False).plot(kind = 'bar', color = 'red', figsize = (7,7))"
   ]
  },
  {
   "cell_type": "code",
   "execution_count": 17,
   "metadata": {},
   "outputs": [],
   "source": [
    "count = df['unique_id'].count()\n",
    "women =  df['woman'].sum()/count\n",
    "men = df['cisgender_man'].sum()/count\n",
    "black = df['black_or_of_african_descent'].sum()/count\n",
    "hisp = df['hispanic_or_latinx'].sum()/count\n",
    "ratio_list = [women, men, black, hisp]"
   ]
  },
  {
   "cell_type": "code",
   "execution_count": 18,
   "metadata": {},
   "outputs": [
    {
     "data": {
      "text/plain": [
       "<matplotlib.collections.PathCollection at 0x260b8c881f0>"
      ]
     },
     "execution_count": 18,
     "metadata": {},
     "output_type": "execute_result"
    },
    {
     "data": {
      "image/png": "[encoded data removed]",
      "text/plain": [
       "<Figure size 432x288 with 1 Axes>"
      ]
     },
     "metadata": {
      "needs_background": "light"
     },
     "output_type": "display_data"
    }
   ],
   "source": [
    "# Ratios of sex/race demographics\n",
    "plt.scatter([1,2,3,4], ratio_list)"
   ]
  },
  {
   "cell_type": "code",
   "execution_count": 19,
   "metadata": {},
   "outputs": [
    {
     "data": {
      "text/plain": [
       "0    18 to 24\n",
       "dtype: object"
      ]
     },
     "execution_count": 19,
     "metadata": {},
     "output_type": "execute_result"
    }
   ],
   "source": [
    "df['age'].mode()"
   ]
  },
  {
   "cell_type": "code",
   "execution_count": 20,
   "metadata": {},
   "outputs": [
    {
     "data": {
      "text/plain": [
       "4760"
      ]
     },
     "execution_count": 20,
     "metadata": {},
     "output_type": "execute_result"
    }
   ],
   "source": [
    "df['black_or_of_african_descent'].sum()"
   ]
  },
  {
   "cell_type": "code",
   "execution_count": null,
   "metadata": {},
   "outputs": [
    {
     "data": {
      "text/plain": [
       "0        United Kingdom of Great Britain and Northern I...\n",
       "1        United Kingdom of Great Britain and Northern I...\n",
       "2                                                   Canada\n",
       "3                                              Switzerland\n",
       "4                                                  Belgium\n",
       "                               ...                        \n",
       "24046                                          Switzerland\n",
       "24047                                   Russian Federation\n",
       "24048                                          Switzerland\n",
       "24049                                          Switzerland\n",
       "24050                                          Switzerland\n",
       "Name: country_of_residence, Length: 24051, dtype: object"
      ]
     },
     "execution_count": 99,
     "metadata": {},
     "output_type": "execute_result"
    }
   ],
   "source": [
    "df.loc[:,'country_of_residence']"
   ]
  },
  {
   "cell_type": "code",
   "execution_count": 92,
   "metadata": {},
   "outputs": [],
   "source": [
    "# analysis of issues affecting people locally (city)\n",
    "analysis = df.iloc[:,58:70]\n",
    "analysis['country'] = df.loc[:,'country_of_residence']\n"
   ]
  },
  {
   "cell_type": "code",
   "execution_count": 93,
   "metadata": {},
   "outputs": [
    {
     "data": {
      "text/html": [
       "<div>\n",
       "<style scoped>\n",
       "    .dataframe tbody tr th:only-of-type {\n",
       "        vertical-align: middle;\n",
       "    }\n",
       "\n",
       "    .dataframe tbody tr th {\n",
       "        vertical-align: top;\n",
       "    }\n",
       "\n",
       "    .dataframe thead th {\n",
       "        text-align: right;\n",
       "    }\n",
       "</style>\n",
       "<table border=\"1\" class=\"dataframe\">\n",
       "  <thead>\n",
       "    <tr style=\"text-align: right;\">\n",
       "      <th></th>\n",
       "      <th>issue_city_civil_rights_and_freedoms</th>\n",
       "      <th>issue_city_disability_rights</th>\n",
       "      <th>issue_city_economic_and_workers_rights</th>\n",
       "      <th>issue_city_education_and_youth_empowerment</th>\n",
       "      <th>issue_city_ending_violence_harassment_and_abuse</th>\n",
       "      <th>issue_city_environmental_justice</th>\n",
       "      <th>issue_city_immigrant_and_refugee_rights</th>\n",
       "      <th>issue_city_indigenous_andor_roma_rights</th>\n",
       "      <th>issue_city_LGBTQI+_rights</th>\n",
       "      <th>issue_city_racial_equity</th>\n",
       "      <th>issue_city_reproductive_freedom_and_bodily_autonomy</th>\n",
       "      <th>issue_city_sexual_reproductive_and_parental_health</th>\n",
       "      <th>country</th>\n",
       "    </tr>\n",
       "  </thead>\n",
       "  <tbody>\n",
       "    <tr>\n",
       "      <th>0</th>\n",
       "      <td>0</td>\n",
       "      <td>0</td>\n",
       "      <td>0</td>\n",
       "      <td>1</td>\n",
       "      <td>0</td>\n",
       "      <td>0</td>\n",
       "      <td>1</td>\n",
       "      <td>0</td>\n",
       "      <td>1</td>\n",
       "      <td>0</td>\n",
       "      <td>0</td>\n",
       "      <td>0</td>\n",
       "      <td>United Kingdom of Great Britain and Northern I...</td>\n",
       "    </tr>\n",
       "    <tr>\n",
       "      <th>1</th>\n",
       "      <td>0</td>\n",
       "      <td>0</td>\n",
       "      <td>0</td>\n",
       "      <td>1</td>\n",
       "      <td>0</td>\n",
       "      <td>0</td>\n",
       "      <td>1</td>\n",
       "      <td>0</td>\n",
       "      <td>1</td>\n",
       "      <td>0</td>\n",
       "      <td>0</td>\n",
       "      <td>0</td>\n",
       "      <td>United Kingdom of Great Britain and Northern I...</td>\n",
       "    </tr>\n",
       "    <tr>\n",
       "      <th>2</th>\n",
       "      <td>0</td>\n",
       "      <td>0</td>\n",
       "      <td>0</td>\n",
       "      <td>0</td>\n",
       "      <td>0</td>\n",
       "      <td>0</td>\n",
       "      <td>0</td>\n",
       "      <td>0</td>\n",
       "      <td>0</td>\n",
       "      <td>0</td>\n",
       "      <td>0</td>\n",
       "      <td>0</td>\n",
       "      <td>Canada</td>\n",
       "    </tr>\n",
       "    <tr>\n",
       "      <th>3</th>\n",
       "      <td>0</td>\n",
       "      <td>0</td>\n",
       "      <td>1</td>\n",
       "      <td>0</td>\n",
       "      <td>0</td>\n",
       "      <td>0</td>\n",
       "      <td>1</td>\n",
       "      <td>0</td>\n",
       "      <td>0</td>\n",
       "      <td>1</td>\n",
       "      <td>0</td>\n",
       "      <td>0</td>\n",
       "      <td>Switzerland</td>\n",
       "    </tr>\n",
       "    <tr>\n",
       "      <th>4</th>\n",
       "      <td>1</td>\n",
       "      <td>0</td>\n",
       "      <td>0</td>\n",
       "      <td>0</td>\n",
       "      <td>0</td>\n",
       "      <td>0</td>\n",
       "      <td>1</td>\n",
       "      <td>0</td>\n",
       "      <td>0</td>\n",
       "      <td>1</td>\n",
       "      <td>0</td>\n",
       "      <td>0</td>\n",
       "      <td>Belgium</td>\n",
       "    </tr>\n",
       "  </tbody>\n",
       "</table>\n",
       "</div>"
      ],
      "text/plain": [
       "   issue_city_civil_rights_and_freedoms  issue_city_disability_rights  \\\n",
       "0                                     0                             0   \n",
       "1                                     0                             0   \n",
       "2                                     0                             0   \n",
       "3                                     0                             0   \n",
       "4                                     1                             0   \n",
       "\n",
       "   issue_city_economic_and_workers_rights  \\\n",
       "0                                       0   \n",
       "1                                       0   \n",
       "2                                       0   \n",
       "3                                       1   \n",
       "4                                       0   \n",
       "\n",
       "   issue_city_education_and_youth_empowerment  \\\n",
       "0                                           1   \n",
       "1                                           1   \n",
       "2                                           0   \n",
       "3                                           0   \n",
       "4                                           0   \n",
       "\n",
       "   issue_city_ending_violence_harassment_and_abuse  \\\n",
       "0                                                0   \n",
       "1                                                0   \n",
       "2                                                0   \n",
       "3                                                0   \n",
       "4                                                0   \n",
       "\n",
       "   issue_city_environmental_justice  issue_city_immigrant_and_refugee_rights  \\\n",
       "0                                 0                                        1   \n",
       "1                                 0                                        1   \n",
       "2                                 0                                        0   \n",
       "3                                 0                                        1   \n",
       "4                                 0                                        1   \n",
       "\n",
       "   issue_city_indigenous_andor_roma_rights  issue_city_LGBTQI+_rights  \\\n",
       "0                                        0                          1   \n",
       "1                                        0                          1   \n",
       "2                                        0                          0   \n",
       "3                                        0                          0   \n",
       "4                                        0                          0   \n",
       "\n",
       "   issue_city_racial_equity  \\\n",
       "0                         0   \n",
       "1                         0   \n",
       "2                         0   \n",
       "3                         1   \n",
       "4                         1   \n",
       "\n",
       "   issue_city_reproductive_freedom_and_bodily_autonomy  \\\n",
       "0                                                  0     \n",
       "1                                                  0     \n",
       "2                                                  0     \n",
       "3                                                  0     \n",
       "4                                                  0     \n",
       "\n",
       "   issue_city_sexual_reproductive_and_parental_health  \\\n",
       "0                                                  0    \n",
       "1                                                  0    \n",
       "2                                                  0    \n",
       "3                                                  0    \n",
       "4                                                  0    \n",
       "\n",
       "                                             country  \n",
       "0  United Kingdom of Great Britain and Northern I...  \n",
       "1  United Kingdom of Great Britain and Northern I...  \n",
       "2                                             Canada  \n",
       "3                                        Switzerland  \n",
       "4                                            Belgium  "
      ]
     },
     "execution_count": 93,
     "metadata": {},
     "output_type": "execute_result"
    }
   ],
   "source": [
    "analysis.head()"
   ]
  },
  {
   "cell_type": "code",
   "execution_count": 95,
   "metadata": {},
   "outputs": [],
   "source": [
    "analysis_long = analysis.melt(id_vars = 'country', var_name = 'issue')"
   ]
  },
  {
   "cell_type": "code",
   "execution_count": 99,
   "metadata": {},
   "outputs": [
    {
     "data": {
      "text/html": [
       "<div>\n",
       "<style scoped>\n",
       "    .dataframe tbody tr th:only-of-type {\n",
       "        vertical-align: middle;\n",
       "    }\n",
       "\n",
       "    .dataframe tbody tr th {\n",
       "        vertical-align: top;\n",
       "    }\n",
       "\n",
       "    .dataframe thead th {\n",
       "        text-align: right;\n",
       "    }\n",
       "</style>\n",
       "<table border=\"1\" class=\"dataframe\">\n",
       "  <thead>\n",
       "    <tr style=\"text-align: right;\">\n",
       "      <th></th>\n",
       "      <th></th>\n",
       "      <th>value</th>\n",
       "    </tr>\n",
       "    <tr>\n",
       "      <th>country</th>\n",
       "      <th>issue</th>\n",
       "      <th></th>\n",
       "    </tr>\n",
       "  </thead>\n",
       "  <tbody>\n",
       "    <tr>\n",
       "      <th rowspan=\"5\" valign=\"top\">Afghanistan</th>\n",
       "      <th>issue_city_LGBTQI+_rights</th>\n",
       "      <td>0</td>\n",
       "    </tr>\n",
       "    <tr>\n",
       "      <th>issue_city_civil_rights_and_freedoms</th>\n",
       "      <td>2</td>\n",
       "    </tr>\n",
       "    <tr>\n",
       "      <th>issue_city_disability_rights</th>\n",
       "      <td>1</td>\n",
       "    </tr>\n",
       "    <tr>\n",
       "      <th>issue_city_economic_and_workers_rights</th>\n",
       "      <td>2</td>\n",
       "    </tr>\n",
       "    <tr>\n",
       "      <th>issue_city_education_and_youth_empowerment</th>\n",
       "      <td>1</td>\n",
       "    </tr>\n",
       "    <tr>\n",
       "      <th>...</th>\n",
       "      <th>...</th>\n",
       "      <td>...</td>\n",
       "    </tr>\n",
       "    <tr>\n",
       "      <th rowspan=\"5\" valign=\"top\">Zimbabwe</th>\n",
       "      <th>issue_city_immigrant_and_refugee_rights</th>\n",
       "      <td>3</td>\n",
       "    </tr>\n",
       "    <tr>\n",
       "      <th>issue_city_indigenous_andor_roma_rights</th>\n",
       "      <td>9</td>\n",
       "    </tr>\n",
       "    <tr>\n",
       "      <th>issue_city_racial_equity</th>\n",
       "      <td>5</td>\n",
       "    </tr>\n",
       "    <tr>\n",
       "      <th>issue_city_reproductive_freedom_and_bodily_autonomy</th>\n",
       "      <td>18</td>\n",
       "    </tr>\n",
       "    <tr>\n",
       "      <th>issue_city_sexual_reproductive_and_parental_health</th>\n",
       "      <td>71</td>\n",
       "    </tr>\n",
       "  </tbody>\n",
       "</table>\n",
       "<p>1860 rows × 1 columns</p>\n",
       "</div>"
      ],
      "text/plain": [
       "                                                                value\n",
       "country     issue                                                    \n",
       "Afghanistan issue_city_LGBTQI+_rights                               0\n",
       "            issue_city_civil_rights_and_freedoms                    2\n",
       "            issue_city_disability_rights                            1\n",
       "            issue_city_economic_and_workers_rights                  2\n",
       "            issue_city_education_and_youth_empowerment              1\n",
       "...                                                               ...\n",
       "Zimbabwe    issue_city_immigrant_and_refugee_rights                 3\n",
       "            issue_city_indigenous_andor_roma_rights                 9\n",
       "            issue_city_racial_equity                                5\n",
       "            issue_city_reproductive_freedom_and_bodily_auto...     18\n",
       "            issue_city_sexual_reproductive_and_parental_health     71\n",
       "\n",
       "[1860 rows x 1 columns]"
      ]
     },
     "execution_count": 99,
     "metadata": {},
     "output_type": "execute_result"
    }
   ],
   "source": [
    "analysis_long.groupby(['country', 'issue']).sum()"
   ]
  },
  {
   "cell_type": "code",
   "execution_count": 97,
   "metadata": {},
   "outputs": [
    {
     "data": {
      "text/plain": [
       "2289"
      ]
     },
     "execution_count": 97,
     "metadata": {},
     "output_type": "execute_result"
    }
   ],
   "source": [
    "df['issue_city_civil_rights_and_freedoms'].sum()"
   ]
  },
  {
   "cell_type": "code",
   "execution_count": 98,
   "metadata": {},
   "outputs": [
    {
     "data": {
      "text/html": [
       "<div>\n",
       "<style scoped>\n",
       "    .dataframe tbody tr th:only-of-type {\n",
       "        vertical-align: middle;\n",
       "    }\n",
       "\n",
       "    .dataframe tbody tr th {\n",
       "        vertical-align: top;\n",
       "    }\n",
       "\n",
       "    .dataframe thead th {\n",
       "        text-align: right;\n",
       "    }\n",
       "</style>\n",
       "<table border=\"1\" class=\"dataframe\">\n",
       "  <thead>\n",
       "    <tr style=\"text-align: right;\">\n",
       "      <th></th>\n",
       "      <th></th>\n",
       "      <th>value</th>\n",
       "    </tr>\n",
       "    <tr>\n",
       "      <th>country</th>\n",
       "      <th>issue</th>\n",
       "      <th></th>\n",
       "    </tr>\n",
       "  </thead>\n",
       "  <tbody>\n",
       "    <tr>\n",
       "      <th rowspan=\"12\" valign=\"top\">Switzerland</th>\n",
       "      <th>issue_city_LGBTQI+_rights</th>\n",
       "      <td>227</td>\n",
       "    </tr>\n",
       "    <tr>\n",
       "      <th>issue_city_civil_rights_and_freedoms</th>\n",
       "      <td>490</td>\n",
       "    </tr>\n",
       "    <tr>\n",
       "      <th>issue_city_disability_rights</th>\n",
       "      <td>152</td>\n",
       "    </tr>\n",
       "    <tr>\n",
       "      <th>issue_city_economic_and_workers_rights</th>\n",
       "      <td>817</td>\n",
       "    </tr>\n",
       "    <tr>\n",
       "      <th>issue_city_education_and_youth_empowerment</th>\n",
       "      <td>385</td>\n",
       "    </tr>\n",
       "    <tr>\n",
       "      <th>issue_city_ending_violence_harassment_and_abuse</th>\n",
       "      <td>561</td>\n",
       "    </tr>\n",
       "    <tr>\n",
       "      <th>issue_city_environmental_justice</th>\n",
       "      <td>879</td>\n",
       "    </tr>\n",
       "    <tr>\n",
       "      <th>issue_city_immigrant_and_refugee_rights</th>\n",
       "      <td>696</td>\n",
       "    </tr>\n",
       "    <tr>\n",
       "      <th>issue_city_indigenous_andor_roma_rights</th>\n",
       "      <td>22</td>\n",
       "    </tr>\n",
       "    <tr>\n",
       "      <th>issue_city_racial_equity</th>\n",
       "      <td>487</td>\n",
       "    </tr>\n",
       "    <tr>\n",
       "      <th>issue_city_reproductive_freedom_and_bodily_autonomy</th>\n",
       "      <td>28</td>\n",
       "    </tr>\n",
       "    <tr>\n",
       "      <th>issue_city_sexual_reproductive_and_parental_health</th>\n",
       "      <td>52</td>\n",
       "    </tr>\n",
       "  </tbody>\n",
       "</table>\n",
       "</div>"
      ],
      "text/plain": [
       "                                                                value\n",
       "country     issue                                                    \n",
       "Switzerland issue_city_LGBTQI+_rights                             227\n",
       "            issue_city_civil_rights_and_freedoms                  490\n",
       "            issue_city_disability_rights                          152\n",
       "            issue_city_economic_and_workers_rights                817\n",
       "            issue_city_education_and_youth_empowerment            385\n",
       "            issue_city_ending_violence_harassment_and_abuse       561\n",
       "            issue_city_environmental_justice                      879\n",
       "            issue_city_immigrant_and_refugee_rights               696\n",
       "            issue_city_indigenous_andor_roma_rights                22\n",
       "            issue_city_racial_equity                              487\n",
       "            issue_city_reproductive_freedom_and_bodily_auto...     28\n",
       "            issue_city_sexual_reproductive_and_parental_health     52"
      ]
     },
     "execution_count": 98,
     "metadata": {},
     "output_type": "execute_result"
    }
   ],
   "source": [
    "analysis_long.groupby(['country', 'issue']).sum().groupby('country').get_group('Switzerland')"
   ]
  },
  {
   "cell_type": "code",
   "execution_count": 100,
   "metadata": {},
   "outputs": [
    {
     "data": {
      "text/plain": [
       "<AxesSubplot:title={'center':'Analysis of issues (local/city level)'}, ylabel='issue'>"
      ]
     },
     "execution_count": 100,
     "metadata": {},
     "output_type": "execute_result"
    },
    {
     "data": {
      "image/png": "[encoded data removed]",
      "text/plain": [
       "<Figure size 1080x720 with 1 Axes>"
      ]
     },
     "metadata": {
      "needs_background": "light"
     },
     "output_type": "display_data"
    }
   ],
   "source": [
    "analysis_long.groupby(['issue']).sum().sort_values(by = 'value', ascending = False).plot.barh(title='Analysis of issues (local/city level)', figsize=(15,10), fontsize=12)"
   ]
  },
  {
   "cell_type": "code",
   "execution_count": 104,
   "metadata": {},
   "outputs": [],
   "source": [
    "analysis = df.iloc[:,34:46]\n",
    "analysis['country'] = df.loc[:,'country_of_residence']"
   ]
  },
  {
   "cell_type": "code",
   "execution_count": 106,
   "metadata": {},
   "outputs": [],
   "source": [
    "analysis_long = analysis.melt(id_vars = 'country', var_name = 'issue')"
   ]
  },
  {
   "cell_type": "code",
   "execution_count": 107,
   "metadata": {},
   "outputs": [
    {
     "data": {
      "text/plain": [
       "<AxesSubplot:title={'center':'Analysis of issues (global level)'}, ylabel='issue'>"
      ]
     },
     "execution_count": 107,
     "metadata": {},
     "output_type": "execute_result"
    },
    {
     "data": {
      "image/png": "[encoded data removed]",
      "text/plain": [
       "<Figure size 1080x720 with 1 Axes>"
      ]
     },
     "metadata": {
      "needs_background": "light"
     },
     "output_type": "display_data"
    }
   ],
   "source": [
    "analysis_long.groupby(['issue']).sum().sort_values(by = 'value', ascending = False).plot.barh(title='Analysis of issues (global level)', figsize=(15,10), fontsize=12)"
   ]
  },
  {
   "cell_type": "code",
   "execution_count": 108,
   "metadata": {},
   "outputs": [],
   "source": [
    "analysis = df.iloc[:,4:14]\n",
    "analysis['unique_id'] = df.loc[:,'unique_id']\n",
    "analysis = analysis.reset_index()"
   ]
  },
  {
   "cell_type": "code",
   "execution_count": 109,
   "metadata": {},
   "outputs": [
    {
     "data": {
      "text/html": [
       "<div>\n",
       "<style scoped>\n",
       "    .dataframe tbody tr th:only-of-type {\n",
       "        vertical-align: middle;\n",
       "    }\n",
       "\n",
       "    .dataframe tbody tr th {\n",
       "        vertical-align: top;\n",
       "    }\n",
       "\n",
       "    .dataframe thead th {\n",
       "        text-align: right;\n",
       "    }\n",
       "</style>\n",
       "<table border=\"1\" class=\"dataframe\">\n",
       "  <thead>\n",
       "    <tr style=\"text-align: right;\">\n",
       "      <th></th>\n",
       "      <th>index</th>\n",
       "      <th>surveydate</th>\n",
       "      <th>city_town</th>\n",
       "      <th>city_town_tr</th>\n",
       "      <th>country_of_residence</th>\n",
       "      <th>gender_not_listed</th>\n",
       "      <th>cisgender_man</th>\n",
       "      <th>cisgender_woman</th>\n",
       "      <th>non_conforming_or_non_binary</th>\n",
       "      <th>gender_choose_not_to_identify</th>\n",
       "      <th>man</th>\n",
       "      <th>unique_id</th>\n",
       "    </tr>\n",
       "  </thead>\n",
       "  <tbody>\n",
       "    <tr>\n",
       "      <th>0</th>\n",
       "      <td>0</td>\n",
       "      <td>1/15/2021 19:26</td>\n",
       "      <td>Maidstone</td>\n",
       "      <td>Maidstone</td>\n",
       "      <td>United Kingdom of Great Britain and Northern I...</td>\n",
       "      <td>0</td>\n",
       "      <td>0</td>\n",
       "      <td>0</td>\n",
       "      <td>0</td>\n",
       "      <td>0</td>\n",
       "      <td>0</td>\n",
       "      <td>12327918977</td>\n",
       "    </tr>\n",
       "    <tr>\n",
       "      <th>1</th>\n",
       "      <td>1</td>\n",
       "      <td>1/15/2021 19:46</td>\n",
       "      <td>Maidstone</td>\n",
       "      <td>Maidstone</td>\n",
       "      <td>United Kingdom of Great Britain and Northern I...</td>\n",
       "      <td>0</td>\n",
       "      <td>0</td>\n",
       "      <td>0</td>\n",
       "      <td>0</td>\n",
       "      <td>0</td>\n",
       "      <td>0</td>\n",
       "      <td>12327959040</td>\n",
       "    </tr>\n",
       "    <tr>\n",
       "      <th>2</th>\n",
       "      <td>2</td>\n",
       "      <td>1/20/2021 20:22</td>\n",
       "      <td>Waterloo</td>\n",
       "      <td>Waterloo</td>\n",
       "      <td>Canada</td>\n",
       "      <td>0</td>\n",
       "      <td>0</td>\n",
       "      <td>0</td>\n",
       "      <td>0</td>\n",
       "      <td>0</td>\n",
       "      <td>0</td>\n",
       "      <td>12340367937</td>\n",
       "    </tr>\n",
       "    <tr>\n",
       "      <th>3</th>\n",
       "      <td>3</td>\n",
       "      <td>1/20/2021 20:29</td>\n",
       "      <td>Zuerich</td>\n",
       "      <td>Zuerich</td>\n",
       "      <td>Switzerland</td>\n",
       "      <td>0</td>\n",
       "      <td>0</td>\n",
       "      <td>0</td>\n",
       "      <td>0</td>\n",
       "      <td>0</td>\n",
       "      <td>0</td>\n",
       "      <td>12340336342</td>\n",
       "    </tr>\n",
       "    <tr>\n",
       "      <th>4</th>\n",
       "      <td>4</td>\n",
       "      <td>1/20/2021 20:47</td>\n",
       "      <td>Brussels</td>\n",
       "      <td>Brussels</td>\n",
       "      <td>Belgium</td>\n",
       "      <td>1</td>\n",
       "      <td>0</td>\n",
       "      <td>0</td>\n",
       "      <td>0</td>\n",
       "      <td>0</td>\n",
       "      <td>0</td>\n",
       "      <td>12340427318</td>\n",
       "    </tr>\n",
       "  </tbody>\n",
       "</table>\n",
       "</div>"
      ],
      "text/plain": [
       "   index       surveydate  city_town city_town_tr  \\\n",
       "0      0  1/15/2021 19:26  Maidstone    Maidstone   \n",
       "1      1  1/15/2021 19:46  Maidstone    Maidstone   \n",
       "2      2  1/20/2021 20:22   Waterloo     Waterloo   \n",
       "3      3  1/20/2021 20:29    Zuerich      Zuerich   \n",
       "4      4  1/20/2021 20:47   Brussels     Brussels   \n",
       "\n",
       "                                country_of_residence  gender_not_listed  \\\n",
       "0  United Kingdom of Great Britain and Northern I...                  0   \n",
       "1  United Kingdom of Great Britain and Northern I...                  0   \n",
       "2                                             Canada                  0   \n",
       "3                                        Switzerland                  0   \n",
       "4                                            Belgium                  1   \n",
       "\n",
       "   cisgender_man  cisgender_woman  non_conforming_or_non_binary  \\\n",
       "0              0                0                             0   \n",
       "1              0                0                             0   \n",
       "2              0                0                             0   \n",
       "3              0                0                             0   \n",
       "4              0                0                             0   \n",
       "\n",
       "   gender_choose_not_to_identify  man    unique_id  \n",
       "0                              0    0  12327918977  \n",
       "1                              0    0  12327959040  \n",
       "2                              0    0  12340367937  \n",
       "3                              0    0  12340336342  \n",
       "4                              0    0  12340427318  "
      ]
     },
     "execution_count": 109,
     "metadata": {},
     "output_type": "execute_result"
    }
   ],
   "source": [
    "analysis.head()"
   ]
  },
  {
   "cell_type": "code",
   "execution_count": 110,
   "metadata": {},
   "outputs": [
    {
     "data": {
      "text/plain": [
       "Index(['city_town_tr', 'country_of_residence', 'gender_not_listed',\n",
       "       'cisgender_man', 'cisgender_woman', 'non_conforming_or_non_binary',\n",
       "       'gender_choose_not_to_identify', 'man'],\n",
       "      dtype='object')"
      ]
     },
     "execution_count": 110,
     "metadata": {},
     "output_type": "execute_result"
    }
   ],
   "source": [
    "df.columns[6:14]"
   ]
  },
  {
   "cell_type": "code",
   "execution_count": 112,
   "metadata": {},
   "outputs": [
    {
     "data": {
      "text/html": [
       "<div>\n",
       "<style scoped>\n",
       "    .dataframe tbody tr th:only-of-type {\n",
       "        vertical-align: middle;\n",
       "    }\n",
       "\n",
       "    .dataframe tbody tr th {\n",
       "        vertical-align: top;\n",
       "    }\n",
       "\n",
       "    .dataframe thead th {\n",
       "        text-align: right;\n",
       "    }\n",
       "</style>\n",
       "<table border=\"1\" class=\"dataframe\">\n",
       "  <thead>\n",
       "    <tr style=\"text-align: right;\">\n",
       "      <th></th>\n",
       "      <th>country</th>\n",
       "      <th>issue</th>\n",
       "      <th>value</th>\n",
       "    </tr>\n",
       "  </thead>\n",
       "  <tbody>\n",
       "    <tr>\n",
       "      <th>8</th>\n",
       "      <td>United States of America</td>\n",
       "      <td>issue_person_civil_rights_and_freedoms</td>\n",
       "      <td>1</td>\n",
       "    </tr>\n",
       "    <tr>\n",
       "      <th>16</th>\n",
       "      <td>Kyrgyzstan</td>\n",
       "      <td>issue_person_civil_rights_and_freedoms</td>\n",
       "      <td>1</td>\n",
       "    </tr>\n",
       "    <tr>\n",
       "      <th>23</th>\n",
       "      <td>Switzerland</td>\n",
       "      <td>issue_person_civil_rights_and_freedoms</td>\n",
       "      <td>1</td>\n",
       "    </tr>\n",
       "    <tr>\n",
       "      <th>24</th>\n",
       "      <td>Greece</td>\n",
       "      <td>issue_person_civil_rights_and_freedoms</td>\n",
       "      <td>1</td>\n",
       "    </tr>\n",
       "    <tr>\n",
       "      <th>27</th>\n",
       "      <td>United Kingdom of Great Britain and Northern I...</td>\n",
       "      <td>issue_person_civil_rights_and_freedoms</td>\n",
       "      <td>1</td>\n",
       "    </tr>\n",
       "    <tr>\n",
       "      <th>...</th>\n",
       "      <td>...</td>\n",
       "      <td>...</td>\n",
       "      <td>...</td>\n",
       "    </tr>\n",
       "    <tr>\n",
       "      <th>288580</th>\n",
       "      <td>United States of America</td>\n",
       "      <td>issue_person_sexual_reproductive_and_parental_...</td>\n",
       "      <td>1</td>\n",
       "    </tr>\n",
       "    <tr>\n",
       "      <th>288588</th>\n",
       "      <td>United Kingdom of Great Britain and Northern I...</td>\n",
       "      <td>issue_person_sexual_reproductive_and_parental_...</td>\n",
       "      <td>1</td>\n",
       "    </tr>\n",
       "    <tr>\n",
       "      <th>288601</th>\n",
       "      <td>Kenya</td>\n",
       "      <td>issue_person_sexual_reproductive_and_parental_...</td>\n",
       "      <td>1</td>\n",
       "    </tr>\n",
       "    <tr>\n",
       "      <th>288605</th>\n",
       "      <td>Switzerland</td>\n",
       "      <td>issue_person_sexual_reproductive_and_parental_...</td>\n",
       "      <td>1</td>\n",
       "    </tr>\n",
       "    <tr>\n",
       "      <th>288609</th>\n",
       "      <td>Switzerland</td>\n",
       "      <td>issue_person_sexual_reproductive_and_parental_...</td>\n",
       "      <td>1</td>\n",
       "    </tr>\n",
       "  </tbody>\n",
       "</table>\n",
       "<p>60974 rows × 3 columns</p>\n",
       "</div>"
      ],
      "text/plain": [
       "                                                  country  \\\n",
       "8                                United States of America   \n",
       "16                                             Kyrgyzstan   \n",
       "23                                            Switzerland   \n",
       "24                                                 Greece   \n",
       "27      United Kingdom of Great Britain and Northern I...   \n",
       "...                                                   ...   \n",
       "288580                           United States of America   \n",
       "288588  United Kingdom of Great Britain and Northern I...   \n",
       "288601                                              Kenya   \n",
       "288605                                        Switzerland   \n",
       "288609                                        Switzerland   \n",
       "\n",
       "                                                    issue  value  \n",
       "8                  issue_person_civil_rights_and_freedoms      1  \n",
       "16                 issue_person_civil_rights_and_freedoms      1  \n",
       "23                 issue_person_civil_rights_and_freedoms      1  \n",
       "24                 issue_person_civil_rights_and_freedoms      1  \n",
       "27                 issue_person_civil_rights_and_freedoms      1  \n",
       "...                                                   ...    ...  \n",
       "288580  issue_person_sexual_reproductive_and_parental_...      1  \n",
       "288588  issue_person_sexual_reproductive_and_parental_...      1  \n",
       "288601  issue_person_sexual_reproductive_and_parental_...      1  \n",
       "288605  issue_person_sexual_reproductive_and_parental_...      1  \n",
       "288609  issue_person_sexual_reproductive_and_parental_...      1  \n",
       "\n",
       "[60974 rows x 3 columns]"
      ]
     },
     "execution_count": 112,
     "metadata": {},
     "output_type": "execute_result"
    }
   ],
   "source": [
    "analysis_long.drop(analysis_long[analysis_long['value'] == 0].index)"
   ]
  },
  {
   "cell_type": "code",
   "execution_count": 31,
   "metadata": {},
   "outputs": [
    {
     "data": {
      "text/plain": [
       "Index(['gender_not_listed', 'cisgender_man', 'cisgender_woman',\n",
       "       'non_conforming_or_non_binary', 'gender_choose_not_to_identify', 'man',\n",
       "       'transgender_man', 'transgender_woman', 'woman'],\n",
       "      dtype='object')"
      ]
     },
     "execution_count": 31,
     "metadata": {},
     "output_type": "execute_result"
    }
   ],
   "source": [
    "gender = df.columns[8:17]\n",
    "gender"
   ]
  },
  {
   "cell_type": "code",
   "execution_count": 75,
   "metadata": {},
   "outputs": [],
   "source": [
    "# this function has been added in utilities.py\n",
    "# subsequently, import it from there\n",
    "def gender_func(x):\n",
    "    gender = []\n",
    "    if x['gender_not_listed']:\n",
    "        gender.append('not listed')\n",
    "    if x['gender_choose_not_to_identify']:\n",
    "        gender.append('undisclosed')\n",
    "    if x['cisgender_man']:\n",
    "        gender.append('cisgender man')\n",
    "    if x['cisgender_woman']:\n",
    "        gender.append('cisgender woman')\n",
    "    if x['non_conforming_or_non_binary']:\n",
    "        gender.append('non-binary')\n",
    "    if x['transgender_man']:\n",
    "        gender.append('transgender man')\n",
    "    if x['transgender_woman']:\n",
    "        gender.append('transgender woman')\n",
    "    if x['man']:\n",
    "        gender.append('man')\n",
    "    if x['woman']:\n",
    "        gender.append('woman')\n",
    "    if gender == []:\n",
    "        gender.append('undisclosed')\n",
    "    \n",
    "    return ', '.join(gender)\n"
   ]
  },
  {
   "cell_type": "code",
   "execution_count": 76,
   "metadata": {},
   "outputs": [],
   "source": [
    "df['new'] = df.apply(gender_func, axis = 1)"
   ]
  },
  {
   "cell_type": "code",
   "execution_count": 82,
   "metadata": {},
   "outputs": [
    {
     "data": {
      "text/plain": [
       "<AxesSubplot:>"
      ]
     },
     "execution_count": 82,
     "metadata": {},
     "output_type": "execute_result"
    },
    {
     "data": {
      "image/png": "[encoded data removed]",
      "text/plain": [
       "<Figure size 1440x720 with 1 Axes>"
      ]
     },
     "metadata": {
      "needs_background": "light"
     },
     "output_type": "display_data"
    }
   ],
   "source": [
    "df['new'].value_counts().sort_values(ascending = False)[:15].plot.barh(figsize = (20,10))"
   ]
  }
 ],
 "metadata": {
  "interpreter": {
   "hash": "a00b87f3dafb8c5b0afdf77add0e2432ad578e1240a81446720c0c7d6c46e214"
  },
  "kernelspec": {
   "display_name": "Python 3.9.10 64-bit (windows store)",
   "language": "python",
   "name": "python3"
  },
  "language_info": {
   "codemirror_mode": {
    "name": "ipython",
    "version": 3
   },
   "file_extension": ".py",
   "mimetype": "text/x-python",
   "name": "python",
   "nbconvert_exporter": "python",
   "pygments_lexer": "ipython3",
   "version": "3.9.10"
  },
  "orig_nbformat": 4
 },
 "nbformat": 4,
 "nbformat_minor": 2
}
