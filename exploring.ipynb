{
 "cells": [
  {
   "cell_type": "code",
   "execution_count": 1,
   "metadata": {},
   "outputs": [],
   "source": [
    "import pandas as pd\n",
    "import numpy as np\n",
    "import sklearn\n",
    "import matplotlib.pyplot as plt\n",
    "import seaborn as sb"
   ]
  },
  {
   "cell_type": "code",
   "execution_count": 2,
   "metadata": {},
   "outputs": [],
   "source": [
    "df = pd.read_csv('globalcount_data.csv')"
   ]
  },
  {
   "cell_type": "code",
   "execution_count": 3,
   "metadata": {},
   "outputs": [
    {
     "data": {
      "text/html": [
       "<div>\n",
       "<style scoped>\n",
       "    .dataframe tbody tr th:only-of-type {\n",
       "        vertical-align: middle;\n",
       "    }\n",
       "\n",
       "    .dataframe tbody tr th {\n",
       "        vertical-align: top;\n",
       "    }\n",
       "\n",
       "    .dataframe thead th {\n",
       "        text-align: right;\n",
       "    }\n",
       "</style>\n",
       "<table border=\"1\" class=\"dataframe\">\n",
       "  <thead>\n",
       "    <tr style=\"text-align: right;\">\n",
       "      <th></th>\n",
       "      <th>row_id</th>\n",
       "      <th>unique_id</th>\n",
       "      <th>survey_type</th>\n",
       "      <th>iso3166</th>\n",
       "      <th>surveydate</th>\n",
       "      <th>city_town</th>\n",
       "      <th>city_town_tr</th>\n",
       "      <th>country_of_residence</th>\n",
       "      <th>gender_not_listed</th>\n",
       "      <th>cisgender_man</th>\n",
       "      <th>...</th>\n",
       "      <th>npo_1</th>\n",
       "      <th>npo_2</th>\n",
       "      <th>npo_3</th>\n",
       "      <th>progress_10_years</th>\n",
       "      <th>npo_1_tr</th>\n",
       "      <th>npo_2_tr</th>\n",
       "      <th>npo_3_tr</th>\n",
       "      <th>progress_10_years_tr</th>\n",
       "      <th>language</th>\n",
       "      <th>langauge_score</th>\n",
       "    </tr>\n",
       "  </thead>\n",
       "  <tbody>\n",
       "    <tr>\n",
       "      <th>0</th>\n",
       "      <td>2</td>\n",
       "      <td>12327918977</td>\n",
       "      <td>long</td>\n",
       "      <td>UK</td>\n",
       "      <td>1/15/2021 19:26</td>\n",
       "      <td>Maidstone</td>\n",
       "      <td>Maidstone</td>\n",
       "      <td>United Kingdom of Great Britain and Northern I...</td>\n",
       "      <td>0</td>\n",
       "      <td>0</td>\n",
       "      <td>...</td>\n",
       "      <td>NaN</td>\n",
       "      <td>NaN</td>\n",
       "      <td>NaN</td>\n",
       "      <td>NaN</td>\n",
       "      <td>NaN</td>\n",
       "      <td>NaN</td>\n",
       "      <td>NaN</td>\n",
       "      <td>NaN</td>\n",
       "      <td>NaN</td>\n",
       "      <td>NaN</td>\n",
       "    </tr>\n",
       "    <tr>\n",
       "      <th>1</th>\n",
       "      <td>3</td>\n",
       "      <td>12327959040</td>\n",
       "      <td>long</td>\n",
       "      <td>UK</td>\n",
       "      <td>1/15/2021 19:46</td>\n",
       "      <td>Maidstone</td>\n",
       "      <td>Maidstone</td>\n",
       "      <td>United Kingdom of Great Britain and Northern I...</td>\n",
       "      <td>0</td>\n",
       "      <td>0</td>\n",
       "      <td>...</td>\n",
       "      <td>Na</td>\n",
       "      <td>na</td>\n",
       "      <td>NaN</td>\n",
       "      <td>NaN</td>\n",
       "      <td>On</td>\n",
       "      <td>on</td>\n",
       "      <td>ON</td>\n",
       "      <td>NaN</td>\n",
       "      <td>pl</td>\n",
       "      <td>1.00</td>\n",
       "    </tr>\n",
       "    <tr>\n",
       "      <th>2</th>\n",
       "      <td>4</td>\n",
       "      <td>12340367937</td>\n",
       "      <td>long</td>\n",
       "      <td>CA</td>\n",
       "      <td>1/20/2021 20:22</td>\n",
       "      <td>Waterloo</td>\n",
       "      <td>Waterloo</td>\n",
       "      <td>Canada</td>\n",
       "      <td>0</td>\n",
       "      <td>0</td>\n",
       "      <td>...</td>\n",
       "      <td>NaN</td>\n",
       "      <td>NaN</td>\n",
       "      <td>NaN</td>\n",
       "      <td>NaN</td>\n",
       "      <td>NaN</td>\n",
       "      <td>NaN</td>\n",
       "      <td>NaN</td>\n",
       "      <td>NaN</td>\n",
       "      <td>NaN</td>\n",
       "      <td>NaN</td>\n",
       "    </tr>\n",
       "    <tr>\n",
       "      <th>3</th>\n",
       "      <td>5</td>\n",
       "      <td>12340336342</td>\n",
       "      <td>long</td>\n",
       "      <td>CH</td>\n",
       "      <td>1/20/2021 20:29</td>\n",
       "      <td>Zuerich</td>\n",
       "      <td>Zuerich</td>\n",
       "      <td>Switzerland</td>\n",
       "      <td>0</td>\n",
       "      <td>0</td>\n",
       "      <td>...</td>\n",
       "      <td>Amnesty International</td>\n",
       "      <td>Frauenstreik Züeich</td>\n",
       "      <td>Schweizerischer Gewerkschaftsbund &amp; VPOD Gewer...</td>\n",
       "      <td>Gleichstellung und Respekt bei der Arbeit, gle...</td>\n",
       "      <td>Amnesty International</td>\n",
       "      <td>Frauenstreik Züeich</td>\n",
       "      <td>Swiss Trade Union Confederation &amp; VPOD Trade U...</td>\n",
       "      <td>Equality and respect at work, the same AHV for...</td>\n",
       "      <td>de</td>\n",
       "      <td>0.97</td>\n",
       "    </tr>\n",
       "    <tr>\n",
       "      <th>4</th>\n",
       "      <td>6</td>\n",
       "      <td>12340427318</td>\n",
       "      <td>long</td>\n",
       "      <td>BE</td>\n",
       "      <td>1/20/2021 20:47</td>\n",
       "      <td>Brussels</td>\n",
       "      <td>Brussels</td>\n",
       "      <td>Belgium</td>\n",
       "      <td>1</td>\n",
       "      <td>0</td>\n",
       "      <td>...</td>\n",
       "      <td>SINGA</td>\n",
       "      <td>SINGA</td>\n",
       "      <td>NaN</td>\n",
       "      <td>More women in high political positions. Access...</td>\n",
       "      <td>SINGA</td>\n",
       "      <td>SINGA</td>\n",
       "      <td>NaN</td>\n",
       "      <td>More women in high political positions. Access...</td>\n",
       "      <td>en</td>\n",
       "      <td>1.00</td>\n",
       "    </tr>\n",
       "  </tbody>\n",
       "</table>\n",
       "<p>5 rows × 92 columns</p>\n",
       "</div>"
      ],
      "text/plain": [
       "   row_id    unique_id survey_type iso3166       surveydate  city_town  \\\n",
       "0       2  12327918977        long      UK  1/15/2021 19:26  Maidstone   \n",
       "1       3  12327959040        long      UK  1/15/2021 19:46  Maidstone   \n",
       "2       4  12340367937        long      CA  1/20/2021 20:22   Waterloo   \n",
       "3       5  12340336342        long      CH  1/20/2021 20:29    Zuerich   \n",
       "4       6  12340427318        long      BE  1/20/2021 20:47   Brussels   \n",
       "\n",
       "  city_town_tr                               country_of_residence  \\\n",
       "0    Maidstone  United Kingdom of Great Britain and Northern I...   \n",
       "1    Maidstone  United Kingdom of Great Britain and Northern I...   \n",
       "2     Waterloo                                             Canada   \n",
       "3      Zuerich                                        Switzerland   \n",
       "4     Brussels                                            Belgium   \n",
       "\n",
       "   gender_not_listed  cisgender_man  ...                  npo_1  \\\n",
       "0                  0              0  ...                    NaN   \n",
       "1                  0              0  ...                     Na   \n",
       "2                  0              0  ...                    NaN   \n",
       "3                  0              0  ...  Amnesty International   \n",
       "4                  1              0  ...                  SINGA   \n",
       "\n",
       "                 npo_2                                              npo_3  \\\n",
       "0                  NaN                                                NaN   \n",
       "1                   na                                                NaN   \n",
       "2                  NaN                                                NaN   \n",
       "3  Frauenstreik Züeich  Schweizerischer Gewerkschaftsbund & VPOD Gewer...   \n",
       "4                SINGA                                                NaN   \n",
       "\n",
       "                                   progress_10_years               npo_1_tr  \\\n",
       "0                                                NaN                    NaN   \n",
       "1                                                NaN                     On   \n",
       "2                                                NaN                    NaN   \n",
       "3  Gleichstellung und Respekt bei der Arbeit, gle...  Amnesty International   \n",
       "4  More women in high political positions. Access...                  SINGA   \n",
       "\n",
       "              npo_2_tr                                           npo_3_tr  \\\n",
       "0                  NaN                                                NaN   \n",
       "1                   on                                                 ON   \n",
       "2                  NaN                                                NaN   \n",
       "3  Frauenstreik Züeich  Swiss Trade Union Confederation & VPOD Trade U...   \n",
       "4                SINGA                                                NaN   \n",
       "\n",
       "                                progress_10_years_tr  language  langauge_score  \n",
       "0                                                NaN       NaN             NaN  \n",
       "1                                                NaN        pl            1.00  \n",
       "2                                                NaN       NaN             NaN  \n",
       "3  Equality and respect at work, the same AHV for...        de            0.97  \n",
       "4  More women in high political positions. Access...        en            1.00  \n",
       "\n",
       "[5 rows x 92 columns]"
      ]
     },
     "execution_count": 3,
     "metadata": {},
     "output_type": "execute_result"
    }
   ],
   "source": [
    "df.head()"
   ]
  },
  {
   "cell_type": "code",
   "execution_count": 59,
   "metadata": {},
   "outputs": [],
   "source": [
    "df.drop(['surveydate', 'row_id', 'unique_id'], axis = 1, inplace = True)"
   ]
  },
  {
   "cell_type": "code",
   "execution_count": 60,
   "metadata": {},
   "outputs": [
    {
     "name": "stdout",
     "output_type": "stream",
     "text": [
      "<class 'pandas.core.frame.DataFrame'>\n",
      "RangeIndex: 24051 entries, 0 to 24050\n",
      "Data columns (total 89 columns):\n",
      " #   Column                                                   Non-Null Count  Dtype  \n",
      "---  ------                                                   --------------  -----  \n",
      " 0   survey_type                                              24051 non-null  object \n",
      " 1   iso3166                                                  24046 non-null  object \n",
      " 2   city_town                                                24049 non-null  object \n",
      " 3   city_town_tr                                             20503 non-null  object \n",
      " 4   country_of_residence                                     24050 non-null  object \n",
      " 5   gender_not_listed                                        24051 non-null  int64  \n",
      " 6   cisgender_man                                            24051 non-null  int64  \n",
      " 7   cisgender_woman                                          24051 non-null  int64  \n",
      " 8   non_conforming_or_non_binary                             24051 non-null  int64  \n",
      " 9   gender_choose_not_to_identify                            24051 non-null  int64  \n",
      " 10  man                                                      24051 non-null  int64  \n",
      " 11  transgender_man                                          24051 non-null  int64  \n",
      " 12  transgender_woman                                        24051 non-null  int64  \n",
      " 13  woman                                                    24051 non-null  int64  \n",
      " 14  racial_identity_not_listed                               24051 non-null  int64  \n",
      " 15  asian                                                    24051 non-null  int64  \n",
      " 16  biracial_or_mixed                                        24051 non-null  int64  \n",
      " 17  black_or_of_african_descent                              24051 non-null  int64  \n",
      " 18  hispanic_or_latinx                                       24051 non-null  int64  \n",
      " 19  choose_not_to_identify                                   24051 non-null  int64  \n",
      " 20  indigenous                                               24051 non-null  int64  \n",
      " 21  indigenous_central_or_south_american                     24051 non-null  int64  \n",
      " 22  middle_eastern                                           24051 non-null  int64  \n",
      " 23  native_american                                          24051 non-null  int64  \n",
      " 24  native_hawaiian                                          24051 non-null  int64  \n",
      " 25  north_african                                            24051 non-null  int64  \n",
      " 26  pacific_islander                                         24051 non-null  int64  \n",
      " 27  south_asian                                              24051 non-null  int64  \n",
      " 28  southeast_asian                                          24051 non-null  int64  \n",
      " 29  white                                                    24051 non-null  int64  \n",
      " 30  age                                                      19503 non-null  object \n",
      " 31  issue_person_civil_rights_and_freedoms                   24051 non-null  int64  \n",
      " 32  issue_person_disability_rights                           24051 non-null  int64  \n",
      " 33  issue_person_economic_and_workers_rights                 24051 non-null  int64  \n",
      " 34  issue_person_education_and_youth_empowerment             24051 non-null  int64  \n",
      " 35  issue_person_ending_violence_harassment_and_abuse        24051 non-null  int64  \n",
      " 36  issue_person_environmental_justice                       24051 non-null  int64  \n",
      " 37  issue_person_immigrant_and_refugee_rights                24051 non-null  int64  \n",
      " 38  issue_person_indigenous_andor_roma_rights                24051 non-null  int64  \n",
      " 39  issue_person_LGBTQI+_rights                              24051 non-null  int64  \n",
      " 40  issue_person_racial_equity                               24051 non-null  int64  \n",
      " 41  issue_person_reproductive_freedom_and_bodily_autonomy    24051 non-null  int64  \n",
      " 42  issue_person_sexual_reproductive_and_parental_health     24051 non-null  int64  \n",
      " 43  barrier_person_civil_rights_and_freedoms                 6004 non-null   object \n",
      " 44  barrier_person_disability_rights                         1917 non-null   object \n",
      " 45  barrier_person_economic_and_workers_rights               4202 non-null   object \n",
      " 46  barrier_person_education_and_youth_empowerment           7050 non-null   object \n",
      " 47  barrier_person_ending_violence_harassment_and_abuse      12081 non-null  object \n",
      " 48  barrier_person_environmental_justice                     4589 non-null   object \n",
      " 49  barrier_person_immigrant_and_refugee_rights              1671 non-null   object \n",
      " 50  barrier_person_indigenous_andor_roma_rights              577 non-null    object \n",
      " 51  barrier_person_LGBTQI+_rights                            2076 non-null   object \n",
      " 52  barrier_racial_equity                                    3794 non-null   object \n",
      " 53  barrier_person_reproductive_freedom_and_bodily_autonomy  2034 non-null   object \n",
      " 54  barrier_person_sexual_reproductive_and_parental_health   2885 non-null   object \n",
      " 55  issue_city_civil_rights_and_freedoms                     24051 non-null  int64  \n",
      " 56  issue_city_disability_rights                             24051 non-null  int64  \n",
      " 57  issue_city_economic_and_workers_rights                   24051 non-null  int64  \n",
      " 58  issue_city_education_and_youth_empowerment               24051 non-null  int64  \n",
      " 59  issue_city_ending_violence_harassment_and_abuse          24051 non-null  int64  \n",
      " 60  issue_city_environmental_justice                         24051 non-null  int64  \n",
      " 61  issue_city_immigrant_and_refugee_rights                  24051 non-null  int64  \n",
      " 62  issue_city_indigenous_andor_roma_rights                  24051 non-null  int64  \n",
      " 63  issue_city_LGBTQI+_rights                                24051 non-null  int64  \n",
      " 64  issue_city_racial_equity                                 24051 non-null  int64  \n",
      " 65  issue_city_reproductive_freedom_and_bodily_autonomy      24051 non-null  int64  \n",
      " 66  issue_city_sexual_reproductive_and_parental_health       24051 non-null  int64  \n",
      " 67  barrier_city_civil_rights_and_freedoms                   2028 non-null   object \n",
      " 68  barrier_city_disability_rights                           936 non-null    object \n",
      " 69  barrier_city_economic_and_workers_rights                 2718 non-null   object \n",
      " 70  barrier_city_education_and_youth_empowerment             2662 non-null   object \n",
      " 71  barrier_city_ending_violence_harassment_and_abuse        3665 non-null   object \n",
      " 72  barrier_city_environmental_justice                       2003 non-null   object \n",
      " 73  barrier_city_immigrant_and_refugee_rights                1468 non-null   object \n",
      " 74  barrier_city_indigenous_andor_roma_rights                338 non-null    object \n",
      " 75  barrier_city_LGBTQI+_rights                              978 non-null    object \n",
      " 76  barrier_city_racial_equity                               1539 non-null   object \n",
      " 77  barrier_city_reproductive_freedom_and_bodily_autonomy    423 non-null    object \n",
      " 78  barrier_city_sexual_reproductive_and_parental_health     934 non-null    object \n",
      " 79  npo_1                                                    8609 non-null   object \n",
      " 80  npo_2                                                    7000 non-null   object \n",
      " 81  npo_3                                                    6009 non-null   object \n",
      " 82  progress_10_years                                        11429 non-null  object \n",
      " 83  npo_1_tr                                                 8602 non-null   object \n",
      " 84  npo_2_tr                                                 6997 non-null   object \n",
      " 85  npo_3_tr                                                 6008 non-null   object \n",
      " 86  progress_10_years_tr                                     11426 non-null  object \n",
      " 87  language                                                 12954 non-null  object \n",
      " 88  langauge_score                                           12954 non-null  float64\n",
      "dtypes: float64(1), int64(49), object(39)\n",
      "memory usage: 16.3+ MB\n"
     ]
    }
   ],
   "source": [
    "df.info()"
   ]
  },
  {
   "cell_type": "code",
   "execution_count": 69,
   "metadata": {},
   "outputs": [
    {
     "data": {
      "text/plain": [
       "Switzerland           2335\n",
       "Belarus               2151\n",
       "Russian Federation    1913\n",
       "Ukraine               1338\n",
       "Kazakhstan            1320\n",
       "                      ... \n",
       "Cabo Verde               1\n",
       "Guyana                   1\n",
       "Cayman Islands           1\n",
       "Cyprus                   1\n",
       "Bhutan                   1\n",
       "Name: country_of_residence, Length: 155, dtype: int64"
      ]
     },
     "execution_count": 69,
     "metadata": {},
     "output_type": "execute_result"
    }
   ],
   "source": [
    "df['country_of_residence'].value_counts().sort_values(ascending = False)"
   ]
  },
  {
   "cell_type": "code",
   "execution_count": 13,
   "metadata": {},
   "outputs": [
    {
     "data": {
      "text/plain": [
       "<AxesSubplot:>"
      ]
     },
     "execution_count": 13,
     "metadata": {},
     "output_type": "execute_result"
    },
    {
     "data": {
      "image/png": "[encoded data removed]",
      "text/plain": [
       "<Figure size 1440x576 with 1 Axes>"
      ]
     },
     "metadata": {
      "needs_background": "light"
     },
     "output_type": "display_data"
    }
   ],
   "source": [
    "# ch is switzerland\n",
    "df['iso3166'].value_counts().sort_values(ascending = False)[:99].plot(kind = 'bar', figsize = (20,8), color = 'red')"
   ]
  },
  {
   "cell_type": "code",
   "execution_count": 8,
   "metadata": {},
   "outputs": [
    {
     "data": {
      "text/plain": [
       "<AxesSubplot:>"
      ]
     },
     "execution_count": 8,
     "metadata": {},
     "output_type": "execute_result"
    },
    {
     "data": {
      "image/png": "[encoded data removed]",
      "text/plain": [
       "<Figure size 504x504 with 1 Axes>"
      ]
     },
     "metadata": {
      "needs_background": "light"
     },
     "output_type": "display_data"
    }
   ],
   "source": [
    "df['age'].value_counts().sort_values(ascending = False).plot(kind = 'bar', color = 'red', figsize = (7,7))"
   ]
  },
  {
   "cell_type": "code",
   "execution_count": 10,
   "metadata": {},
   "outputs": [],
   "source": [
    "count = df['unique_id'].count()"
   ]
  },
  {
   "cell_type": "code",
   "execution_count": 165,
   "metadata": {},
   "outputs": [
    {
     "name": "stdout",
     "output_type": "stream",
     "text": [
      "<class 'pandas.core.frame.DataFrame'>\n",
      "RangeIndex: 24051 entries, 0 to 24050\n",
      "Data columns (total 89 columns):\n",
      " #   Column                                                   Non-Null Count  Dtype  \n",
      "---  ------                                                   --------------  -----  \n",
      " 0   survey_type                                              24051 non-null  object \n",
      " 1   iso3166                                                  24046 non-null  object \n",
      " 2   city_town                                                24049 non-null  object \n",
      " 3   city_town_tr                                             20503 non-null  object \n",
      " 4   country_of_residence                                     24050 non-null  object \n",
      " 5   gender_not_listed                                        24051 non-null  int64  \n",
      " 6   cisgender_man                                            24051 non-null  int64  \n",
      " 7   cisgender_woman                                          24051 non-null  int64  \n",
      " 8   non_conforming_or_non_binary                             24051 non-null  int64  \n",
      " 9   gender_choose_not_to_identify                            24051 non-null  int64  \n",
      " 10  man                                                      24051 non-null  int64  \n",
      " 11  transgender_man                                          24051 non-null  int64  \n",
      " 12  transgender_woman                                        24051 non-null  int64  \n",
      " 13  woman                                                    24051 non-null  int64  \n",
      " 14  racial_identity_not_listed                               24051 non-null  int64  \n",
      " 15  asian                                                    24051 non-null  int64  \n",
      " 16  biracial_or_mixed                                        24051 non-null  int64  \n",
      " 17  black_or_of_african_descent                              24051 non-null  int64  \n",
      " 18  hispanic_or_latinx                                       24051 non-null  int64  \n",
      " 19  choose_not_to_identify                                   24051 non-null  int64  \n",
      " 20  indigenous                                               24051 non-null  int64  \n",
      " 21  indigenous_central_or_south_american                     24051 non-null  int64  \n",
      " 22  middle_eastern                                           24051 non-null  int64  \n",
      " 23  native_american                                          24051 non-null  int64  \n",
      " 24  native_hawaiian                                          24051 non-null  int64  \n",
      " 25  north_african                                            24051 non-null  int64  \n",
      " 26  pacific_islander                                         24051 non-null  int64  \n",
      " 27  south_asian                                              24051 non-null  int64  \n",
      " 28  southeast_asian                                          24051 non-null  int64  \n",
      " 29  white                                                    24051 non-null  int64  \n",
      " 30  age                                                      19503 non-null  object \n",
      " 31  issue_person_civil_rights_and_freedoms                   24051 non-null  int64  \n",
      " 32  issue_person_disability_rights                           24051 non-null  int64  \n",
      " 33  issue_person_economic_and_workers_rights                 24051 non-null  int64  \n",
      " 34  issue_person_education_and_youth_empowerment             24051 non-null  int64  \n",
      " 35  issue_person_ending_violence_harassment_and_abuse        24051 non-null  int64  \n",
      " 36  issue_person_environmental_justice                       24051 non-null  int64  \n",
      " 37  issue_person_immigrant_and_refugee_rights                24051 non-null  int64  \n",
      " 38  issue_person_indigenous_andor_roma_rights                24051 non-null  int64  \n",
      " 39  issue_person_LGBTQI+_rights                              24051 non-null  int64  \n",
      " 40  issue_person_racial_equity                               24051 non-null  int64  \n",
      " 41  issue_person_reproductive_freedom_and_bodily_autonomy    24051 non-null  int64  \n",
      " 42  issue_person_sexual_reproductive_and_parental_health     24051 non-null  int64  \n",
      " 43  barrier_person_civil_rights_and_freedoms                 6004 non-null   object \n",
      " 44  barrier_person_disability_rights                         1917 non-null   object \n",
      " 45  barrier_person_economic_and_workers_rights               4202 non-null   object \n",
      " 46  barrier_person_education_and_youth_empowerment           7050 non-null   object \n",
      " 47  barrier_person_ending_violence_harassment_and_abuse      12081 non-null  object \n",
      " 48  barrier_person_environmental_justice                     4589 non-null   object \n",
      " 49  barrier_person_immigrant_and_refugee_rights              1671 non-null   object \n",
      " 50  barrier_person_indigenous_andor_roma_rights              577 non-null    object \n",
      " 51  barrier_person_LGBTQI+_rights                            2076 non-null   object \n",
      " 52  barrier_racial_equity                                    3794 non-null   object \n",
      " 53  barrier_person_reproductive_freedom_and_bodily_autonomy  2034 non-null   object \n",
      " 54  barrier_person_sexual_reproductive_and_parental_health   2885 non-null   object \n",
      " 55  issue_city_civil_rights_and_freedoms                     24051 non-null  int64  \n",
      " 56  issue_city_disability_rights                             24051 non-null  int64  \n",
      " 57  issue_city_economic_and_workers_rights                   24051 non-null  int64  \n",
      " 58  issue_city_education_and_youth_empowerment               24051 non-null  int64  \n",
      " 59  issue_city_ending_violence_harassment_and_abuse          24051 non-null  int64  \n",
      " 60  issue_city_environmental_justice                         24051 non-null  int64  \n",
      " 61  issue_city_immigrant_and_refugee_rights                  24051 non-null  int64  \n",
      " 62  issue_city_indigenous_andor_roma_rights                  24051 non-null  int64  \n",
      " 63  issue_city_LGBTQI+_rights                                24051 non-null  int64  \n",
      " 64  issue_city_racial_equity                                 24051 non-null  int64  \n",
      " 65  issue_city_reproductive_freedom_and_bodily_autonomy      24051 non-null  int64  \n",
      " 66  issue_city_sexual_reproductive_and_parental_health       24051 non-null  int64  \n",
      " 67  barrier_city_civil_rights_and_freedoms                   2028 non-null   object \n",
      " 68  barrier_city_disability_rights                           936 non-null    object \n",
      " 69  barrier_city_economic_and_workers_rights                 2718 non-null   object \n",
      " 70  barrier_city_education_and_youth_empowerment             2662 non-null   object \n",
      " 71  barrier_city_ending_violence_harassment_and_abuse        3665 non-null   object \n",
      " 72  barrier_city_environmental_justice                       2003 non-null   object \n",
      " 73  barrier_city_immigrant_and_refugee_rights                1468 non-null   object \n",
      " 74  barrier_city_indigenous_andor_roma_rights                338 non-null    object \n",
      " 75  barrier_city_LGBTQI+_rights                              978 non-null    object \n",
      " 76  barrier_city_racial_equity                               1539 non-null   object \n",
      " 77  barrier_city_reproductive_freedom_and_bodily_autonomy    423 non-null    object \n",
      " 78  barrier_city_sexual_reproductive_and_parental_health     934 non-null    object \n",
      " 79  npo_1                                                    8609 non-null   object \n",
      " 80  npo_2                                                    7000 non-null   object \n",
      " 81  npo_3                                                    6009 non-null   object \n",
      " 82  progress_10_years                                        11429 non-null  object \n",
      " 83  npo_1_tr                                                 8602 non-null   object \n",
      " 84  npo_2_tr                                                 6997 non-null   object \n",
      " 85  npo_3_tr                                                 6008 non-null   object \n",
      " 86  progress_10_years_tr                                     11426 non-null  object \n",
      " 87  language                                                 12954 non-null  object \n",
      " 88  langauge_score                                           12954 non-null  float64\n",
      "dtypes: float64(1), int64(49), object(39)\n",
      "memory usage: 16.3+ MB\n"
     ]
    }
   ],
   "source": [
    "df.info()"
   ]
  },
  {
   "cell_type": "code",
   "execution_count": 11,
   "metadata": {},
   "outputs": [],
   "source": [
    "women =  df['woman'].sum()/count\n",
    "men = df['cisgender_man'].sum()/count\n",
    "black = df['black_or_of_african_descent'].sum()/count\n",
    "hisp = df['hispanic_or_latinx'].sum()/count\n",
    "ratio_list = [women, men, black, hisp]"
   ]
  },
  {
   "cell_type": "code",
   "execution_count": 12,
   "metadata": {},
   "outputs": [
    {
     "data": {
      "text/plain": [
       "<matplotlib.collections.PathCollection at 0x235c0a58c40>"
      ]
     },
     "execution_count": 12,
     "metadata": {},
     "output_type": "execute_result"
    },
    {
     "data": {
      "image/png": "[encoded data removed]",
      "text/plain": [
       "<Figure size 432x288 with 1 Axes>"
      ]
     },
     "metadata": {
      "needs_background": "light"
     },
     "output_type": "display_data"
    }
   ],
   "source": [
    "# Ratios of sex/race demographics\n",
    "plt.scatter([1,2,3,4], ratio_list)"
   ]
  },
  {
   "cell_type": "code",
   "execution_count": 10,
   "metadata": {},
   "outputs": [],
   "source": [
    "df = df.dropna(how = 'any')"
   ]
  },
  {
   "cell_type": "code",
   "execution_count": 18,
   "metadata": {},
   "outputs": [
    {
     "data": {
      "text/plain": [
       "0    18 to 24\n",
       "dtype: object"
      ]
     },
     "execution_count": 18,
     "metadata": {},
     "output_type": "execute_result"
    }
   ],
   "source": [
    "df['age'].mode()"
   ]
  },
  {
   "cell_type": "code",
   "execution_count": 6,
   "metadata": {},
   "outputs": [
    {
     "data": {
      "text/plain": [
       "4760"
      ]
     },
     "execution_count": 6,
     "metadata": {},
     "output_type": "execute_result"
    }
   ],
   "source": [
    "df['black_or_of_african_descent'].sum()"
   ]
  },
  {
   "cell_type": "code",
   "execution_count": 23,
   "metadata": {},
   "outputs": [],
   "source": [
    "analysis = df.iloc[:,7:33]"
   ]
  },
  {
   "cell_type": "code",
   "execution_count": 24,
   "metadata": {},
   "outputs": [
    {
     "data": {
      "text/html": [
       "<div>\n",
       "<style scoped>\n",
       "    .dataframe tbody tr th:only-of-type {\n",
       "        vertical-align: middle;\n",
       "    }\n",
       "\n",
       "    .dataframe tbody tr th {\n",
       "        vertical-align: top;\n",
       "    }\n",
       "\n",
       "    .dataframe thead th {\n",
       "        text-align: right;\n",
       "    }\n",
       "</style>\n",
       "<table border=\"1\" class=\"dataframe\">\n",
       "  <thead>\n",
       "    <tr style=\"text-align: right;\">\n",
       "      <th></th>\n",
       "      <th>country_of_residence</th>\n",
       "      <th>gender_not_listed</th>\n",
       "      <th>cisgender_man</th>\n",
       "      <th>cisgender_woman</th>\n",
       "      <th>non_conforming_or_non_binary</th>\n",
       "      <th>gender_choose_not_to_identify</th>\n",
       "      <th>man</th>\n",
       "      <th>transgender_man</th>\n",
       "      <th>transgender_woman</th>\n",
       "      <th>woman</th>\n",
       "      <th>...</th>\n",
       "      <th>indigenous</th>\n",
       "      <th>indigenous_central_or_south_american</th>\n",
       "      <th>middle_eastern</th>\n",
       "      <th>native_american</th>\n",
       "      <th>native_hawaiian</th>\n",
       "      <th>north_african</th>\n",
       "      <th>pacific_islander</th>\n",
       "      <th>south_asian</th>\n",
       "      <th>southeast_asian</th>\n",
       "      <th>white</th>\n",
       "    </tr>\n",
       "  </thead>\n",
       "  <tbody>\n",
       "    <tr>\n",
       "      <th>0</th>\n",
       "      <td>United Kingdom of Great Britain and Northern I...</td>\n",
       "      <td>0</td>\n",
       "      <td>0</td>\n",
       "      <td>0</td>\n",
       "      <td>0</td>\n",
       "      <td>0</td>\n",
       "      <td>0</td>\n",
       "      <td>0</td>\n",
       "      <td>0</td>\n",
       "      <td>1</td>\n",
       "      <td>...</td>\n",
       "      <td>0</td>\n",
       "      <td>0</td>\n",
       "      <td>0</td>\n",
       "      <td>0</td>\n",
       "      <td>0</td>\n",
       "      <td>0</td>\n",
       "      <td>0</td>\n",
       "      <td>0</td>\n",
       "      <td>0</td>\n",
       "      <td>1</td>\n",
       "    </tr>\n",
       "    <tr>\n",
       "      <th>1</th>\n",
       "      <td>United Kingdom of Great Britain and Northern I...</td>\n",
       "      <td>0</td>\n",
       "      <td>0</td>\n",
       "      <td>0</td>\n",
       "      <td>0</td>\n",
       "      <td>0</td>\n",
       "      <td>0</td>\n",
       "      <td>0</td>\n",
       "      <td>0</td>\n",
       "      <td>1</td>\n",
       "      <td>...</td>\n",
       "      <td>0</td>\n",
       "      <td>0</td>\n",
       "      <td>0</td>\n",
       "      <td>0</td>\n",
       "      <td>0</td>\n",
       "      <td>0</td>\n",
       "      <td>0</td>\n",
       "      <td>0</td>\n",
       "      <td>0</td>\n",
       "      <td>1</td>\n",
       "    </tr>\n",
       "    <tr>\n",
       "      <th>2</th>\n",
       "      <td>Canada</td>\n",
       "      <td>0</td>\n",
       "      <td>0</td>\n",
       "      <td>0</td>\n",
       "      <td>0</td>\n",
       "      <td>0</td>\n",
       "      <td>0</td>\n",
       "      <td>0</td>\n",
       "      <td>0</td>\n",
       "      <td>0</td>\n",
       "      <td>...</td>\n",
       "      <td>0</td>\n",
       "      <td>0</td>\n",
       "      <td>0</td>\n",
       "      <td>0</td>\n",
       "      <td>0</td>\n",
       "      <td>0</td>\n",
       "      <td>0</td>\n",
       "      <td>0</td>\n",
       "      <td>0</td>\n",
       "      <td>0</td>\n",
       "    </tr>\n",
       "    <tr>\n",
       "      <th>3</th>\n",
       "      <td>Switzerland</td>\n",
       "      <td>0</td>\n",
       "      <td>0</td>\n",
       "      <td>0</td>\n",
       "      <td>0</td>\n",
       "      <td>0</td>\n",
       "      <td>0</td>\n",
       "      <td>0</td>\n",
       "      <td>0</td>\n",
       "      <td>1</td>\n",
       "      <td>...</td>\n",
       "      <td>0</td>\n",
       "      <td>0</td>\n",
       "      <td>0</td>\n",
       "      <td>0</td>\n",
       "      <td>0</td>\n",
       "      <td>0</td>\n",
       "      <td>0</td>\n",
       "      <td>0</td>\n",
       "      <td>0</td>\n",
       "      <td>0</td>\n",
       "    </tr>\n",
       "    <tr>\n",
       "      <th>4</th>\n",
       "      <td>Belgium</td>\n",
       "      <td>1</td>\n",
       "      <td>0</td>\n",
       "      <td>0</td>\n",
       "      <td>0</td>\n",
       "      <td>0</td>\n",
       "      <td>0</td>\n",
       "      <td>0</td>\n",
       "      <td>0</td>\n",
       "      <td>0</td>\n",
       "      <td>...</td>\n",
       "      <td>0</td>\n",
       "      <td>0</td>\n",
       "      <td>0</td>\n",
       "      <td>0</td>\n",
       "      <td>0</td>\n",
       "      <td>0</td>\n",
       "      <td>0</td>\n",
       "      <td>0</td>\n",
       "      <td>0</td>\n",
       "      <td>0</td>\n",
       "    </tr>\n",
       "  </tbody>\n",
       "</table>\n",
       "<p>5 rows × 26 columns</p>\n",
       "</div>"
      ],
      "text/plain": [
       "                                country_of_residence  gender_not_listed  \\\n",
       "0  United Kingdom of Great Britain and Northern I...                  0   \n",
       "1  United Kingdom of Great Britain and Northern I...                  0   \n",
       "2                                             Canada                  0   \n",
       "3                                        Switzerland                  0   \n",
       "4                                            Belgium                  1   \n",
       "\n",
       "   cisgender_man  cisgender_woman  non_conforming_or_non_binary  \\\n",
       "0              0                0                             0   \n",
       "1              0                0                             0   \n",
       "2              0                0                             0   \n",
       "3              0                0                             0   \n",
       "4              0                0                             0   \n",
       "\n",
       "   gender_choose_not_to_identify  man  transgender_man  transgender_woman  \\\n",
       "0                              0    0                0                  0   \n",
       "1                              0    0                0                  0   \n",
       "2                              0    0                0                  0   \n",
       "3                              0    0                0                  0   \n",
       "4                              0    0                0                  0   \n",
       "\n",
       "   woman  ...  indigenous  indigenous_central_or_south_american  \\\n",
       "0      1  ...           0                                     0   \n",
       "1      1  ...           0                                     0   \n",
       "2      0  ...           0                                     0   \n",
       "3      1  ...           0                                     0   \n",
       "4      0  ...           0                                     0   \n",
       "\n",
       "   middle_eastern  native_american  native_hawaiian  north_african  \\\n",
       "0               0                0                0              0   \n",
       "1               0                0                0              0   \n",
       "2               0                0                0              0   \n",
       "3               0                0                0              0   \n",
       "4               0                0                0              0   \n",
       "\n",
       "   pacific_islander  south_asian  southeast_asian  white  \n",
       "0                 0            0                0      1  \n",
       "1                 0            0                0      1  \n",
       "2                 0            0                0      0  \n",
       "3                 0            0                0      0  \n",
       "4                 0            0                0      0  \n",
       "\n",
       "[5 rows x 26 columns]"
      ]
     },
     "execution_count": 24,
     "metadata": {},
     "output_type": "execute_result"
    }
   ],
   "source": [
    "analysis.head()"
   ]
  },
  {
   "cell_type": "code",
   "execution_count": 77,
   "metadata": {},
   "outputs": [
    {
     "data": {
      "text/plain": [
       "0    Liberia\n",
       "dtype: object"
      ]
     },
     "execution_count": 77,
     "metadata": {},
     "output_type": "execute_result"
    }
   ],
   "source": [
    "analysis.groupby(['middle_eastern', 'man']).get_group((1,1))['country_of_residence'].mode()"
   ]
  },
  {
   "cell_type": "code",
   "execution_count": 99,
   "metadata": {},
   "outputs": [
    {
     "data": {
      "text/plain": [
       "0        United Kingdom of Great Britain and Northern I...\n",
       "1        United Kingdom of Great Britain and Northern I...\n",
       "2                                                   Canada\n",
       "3                                              Switzerland\n",
       "4                                                  Belgium\n",
       "                               ...                        \n",
       "24046                                          Switzerland\n",
       "24047                                   Russian Federation\n",
       "24048                                          Switzerland\n",
       "24049                                          Switzerland\n",
       "24050                                          Switzerland\n",
       "Name: country_of_residence, Length: 24051, dtype: object"
      ]
     },
     "execution_count": 99,
     "metadata": {},
     "output_type": "execute_result"
    }
   ],
   "source": [
    "df.loc[:,'country_of_residence']"
   ]
  },
  {
   "cell_type": "code",
   "execution_count": 110,
   "metadata": {},
   "outputs": [],
   "source": [
    "# analysis of issues affecting people locally (city)\n",
    "analysis = df.iloc[:,55:66]\n",
    "analysis['country'] = df.loc[:,'country_of_residence']\n"
   ]
  },
  {
   "cell_type": "code",
   "execution_count": 114,
   "metadata": {},
   "outputs": [
    {
     "data": {
      "text/html": [
       "<div>\n",
       "<style scoped>\n",
       "    .dataframe tbody tr th:only-of-type {\n",
       "        vertical-align: middle;\n",
       "    }\n",
       "\n",
       "    .dataframe tbody tr th {\n",
       "        vertical-align: top;\n",
       "    }\n",
       "\n",
       "    .dataframe thead th {\n",
       "        text-align: right;\n",
       "    }\n",
       "</style>\n",
       "<table border=\"1\" class=\"dataframe\">\n",
       "  <thead>\n",
       "    <tr style=\"text-align: right;\">\n",
       "      <th></th>\n",
       "      <th>issue_city_civil_rights_and_freedoms</th>\n",
       "      <th>issue_city_disability_rights</th>\n",
       "      <th>issue_city_economic_and_workers_rights</th>\n",
       "      <th>issue_city_education_and_youth_empowerment</th>\n",
       "      <th>issue_city_ending_violence_harassment_and_abuse</th>\n",
       "      <th>issue_city_environmental_justice</th>\n",
       "      <th>issue_city_immigrant_and_refugee_rights</th>\n",
       "      <th>issue_city_indigenous_andor_roma_rights</th>\n",
       "      <th>issue_city_LGBTQI+_rights</th>\n",
       "      <th>issue_city_racial_equity</th>\n",
       "      <th>issue_city_reproductive_freedom_and_bodily_autonomy</th>\n",
       "      <th>country</th>\n",
       "    </tr>\n",
       "  </thead>\n",
       "  <tbody>\n",
       "    <tr>\n",
       "      <th>0</th>\n",
       "      <td>0</td>\n",
       "      <td>0</td>\n",
       "      <td>0</td>\n",
       "      <td>1</td>\n",
       "      <td>0</td>\n",
       "      <td>0</td>\n",
       "      <td>1</td>\n",
       "      <td>0</td>\n",
       "      <td>1</td>\n",
       "      <td>0</td>\n",
       "      <td>0</td>\n",
       "      <td>United Kingdom of Great Britain and Northern I...</td>\n",
       "    </tr>\n",
       "    <tr>\n",
       "      <th>1</th>\n",
       "      <td>0</td>\n",
       "      <td>0</td>\n",
       "      <td>0</td>\n",
       "      <td>1</td>\n",
       "      <td>0</td>\n",
       "      <td>0</td>\n",
       "      <td>1</td>\n",
       "      <td>0</td>\n",
       "      <td>1</td>\n",
       "      <td>0</td>\n",
       "      <td>0</td>\n",
       "      <td>United Kingdom of Great Britain and Northern I...</td>\n",
       "    </tr>\n",
       "    <tr>\n",
       "      <th>2</th>\n",
       "      <td>0</td>\n",
       "      <td>0</td>\n",
       "      <td>0</td>\n",
       "      <td>0</td>\n",
       "      <td>0</td>\n",
       "      <td>0</td>\n",
       "      <td>0</td>\n",
       "      <td>0</td>\n",
       "      <td>0</td>\n",
       "      <td>0</td>\n",
       "      <td>0</td>\n",
       "      <td>Canada</td>\n",
       "    </tr>\n",
       "    <tr>\n",
       "      <th>3</th>\n",
       "      <td>0</td>\n",
       "      <td>0</td>\n",
       "      <td>1</td>\n",
       "      <td>0</td>\n",
       "      <td>0</td>\n",
       "      <td>0</td>\n",
       "      <td>1</td>\n",
       "      <td>0</td>\n",
       "      <td>0</td>\n",
       "      <td>1</td>\n",
       "      <td>0</td>\n",
       "      <td>Switzerland</td>\n",
       "    </tr>\n",
       "    <tr>\n",
       "      <th>4</th>\n",
       "      <td>1</td>\n",
       "      <td>0</td>\n",
       "      <td>0</td>\n",
       "      <td>0</td>\n",
       "      <td>0</td>\n",
       "      <td>0</td>\n",
       "      <td>1</td>\n",
       "      <td>0</td>\n",
       "      <td>0</td>\n",
       "      <td>1</td>\n",
       "      <td>0</td>\n",
       "      <td>Belgium</td>\n",
       "    </tr>\n",
       "  </tbody>\n",
       "</table>\n",
       "</div>"
      ],
      "text/plain": [
       "   issue_city_civil_rights_and_freedoms  issue_city_disability_rights  \\\n",
       "0                                     0                             0   \n",
       "1                                     0                             0   \n",
       "2                                     0                             0   \n",
       "3                                     0                             0   \n",
       "4                                     1                             0   \n",
       "\n",
       "   issue_city_economic_and_workers_rights  \\\n",
       "0                                       0   \n",
       "1                                       0   \n",
       "2                                       0   \n",
       "3                                       1   \n",
       "4                                       0   \n",
       "\n",
       "   issue_city_education_and_youth_empowerment  \\\n",
       "0                                           1   \n",
       "1                                           1   \n",
       "2                                           0   \n",
       "3                                           0   \n",
       "4                                           0   \n",
       "\n",
       "   issue_city_ending_violence_harassment_and_abuse  \\\n",
       "0                                                0   \n",
       "1                                                0   \n",
       "2                                                0   \n",
       "3                                                0   \n",
       "4                                                0   \n",
       "\n",
       "   issue_city_environmental_justice  issue_city_immigrant_and_refugee_rights  \\\n",
       "0                                 0                                        1   \n",
       "1                                 0                                        1   \n",
       "2                                 0                                        0   \n",
       "3                                 0                                        1   \n",
       "4                                 0                                        1   \n",
       "\n",
       "   issue_city_indigenous_andor_roma_rights  issue_city_LGBTQI+_rights  \\\n",
       "0                                        0                          1   \n",
       "1                                        0                          1   \n",
       "2                                        0                          0   \n",
       "3                                        0                          0   \n",
       "4                                        0                          0   \n",
       "\n",
       "   issue_city_racial_equity  \\\n",
       "0                         0   \n",
       "1                         0   \n",
       "2                         0   \n",
       "3                         1   \n",
       "4                         1   \n",
       "\n",
       "   issue_city_reproductive_freedom_and_bodily_autonomy  \\\n",
       "0                                                  0     \n",
       "1                                                  0     \n",
       "2                                                  0     \n",
       "3                                                  0     \n",
       "4                                                  0     \n",
       "\n",
       "                                             country  \n",
       "0  United Kingdom of Great Britain and Northern I...  \n",
       "1  United Kingdom of Great Britain and Northern I...  \n",
       "2                                             Canada  \n",
       "3                                        Switzerland  \n",
       "4                                            Belgium  "
      ]
     },
     "execution_count": 114,
     "metadata": {},
     "output_type": "execute_result"
    }
   ],
   "source": [
    "analysis.head()"
   ]
  },
  {
   "cell_type": "code",
   "execution_count": 117,
   "metadata": {},
   "outputs": [],
   "source": [
    "analysis_long = analysis.melt(id_vars = 'country', var_name = 'issue')"
   ]
  },
  {
   "cell_type": "code",
   "execution_count": 148,
   "metadata": {},
   "outputs": [
    {
     "data": {
      "text/html": [
       "<div>\n",
       "<style scoped>\n",
       "    .dataframe tbody tr th:only-of-type {\n",
       "        vertical-align: middle;\n",
       "    }\n",
       "\n",
       "    .dataframe tbody tr th {\n",
       "        vertical-align: top;\n",
       "    }\n",
       "\n",
       "    .dataframe thead th {\n",
       "        text-align: right;\n",
       "    }\n",
       "</style>\n",
       "<table border=\"1\" class=\"dataframe\">\n",
       "  <thead>\n",
       "    <tr style=\"text-align: right;\">\n",
       "      <th></th>\n",
       "      <th>country</th>\n",
       "      <th>issue</th>\n",
       "      <th>value</th>\n",
       "    </tr>\n",
       "  </thead>\n",
       "  <tbody>\n",
       "    <tr>\n",
       "      <th>1469</th>\n",
       "      <td>Switzerland</td>\n",
       "      <td>issue_city_environmental_justice</td>\n",
       "      <td>879</td>\n",
       "    </tr>\n",
       "    <tr>\n",
       "      <th>1288</th>\n",
       "      <td>Russian Federation</td>\n",
       "      <td>issue_city_civil_rights_and_freedoms</td>\n",
       "      <td>861</td>\n",
       "    </tr>\n",
       "    <tr>\n",
       "      <th>1466</th>\n",
       "      <td>Switzerland</td>\n",
       "      <td>issue_city_economic_and_workers_rights</td>\n",
       "      <td>817</td>\n",
       "    </tr>\n",
       "    <tr>\n",
       "      <th>1470</th>\n",
       "      <td>Switzerland</td>\n",
       "      <td>issue_city_immigrant_and_refugee_rights</td>\n",
       "      <td>696</td>\n",
       "    </tr>\n",
       "    <tr>\n",
       "      <th>1292</th>\n",
       "      <td>Russian Federation</td>\n",
       "      <td>issue_city_ending_violence_harassment_and_abuse</td>\n",
       "      <td>674</td>\n",
       "    </tr>\n",
       "    <tr>\n",
       "      <th>...</th>\n",
       "      <td>...</td>\n",
       "      <td>...</td>\n",
       "      <td>...</td>\n",
       "    </tr>\n",
       "    <tr>\n",
       "      <th>1058</th>\n",
       "      <td>Morocco</td>\n",
       "      <td>issue_city_disability_rights</td>\n",
       "      <td>0</td>\n",
       "    </tr>\n",
       "    <tr>\n",
       "      <th>1059</th>\n",
       "      <td>Morocco</td>\n",
       "      <td>issue_city_economic_and_workers_rights</td>\n",
       "      <td>0</td>\n",
       "    </tr>\n",
       "    <tr>\n",
       "      <th>1060</th>\n",
       "      <td>Morocco</td>\n",
       "      <td>issue_city_education_and_youth_empowerment</td>\n",
       "      <td>0</td>\n",
       "    </tr>\n",
       "    <tr>\n",
       "      <th>1061</th>\n",
       "      <td>Morocco</td>\n",
       "      <td>issue_city_ending_violence_harassment_and_abuse</td>\n",
       "      <td>0</td>\n",
       "    </tr>\n",
       "    <tr>\n",
       "      <th>0</th>\n",
       "      <td>Afghanistan</td>\n",
       "      <td>issue_city_LGBTQI+_rights</td>\n",
       "      <td>0</td>\n",
       "    </tr>\n",
       "  </tbody>\n",
       "</table>\n",
       "<p>1705 rows × 3 columns</p>\n",
       "</div>"
      ],
      "text/plain": [
       "                 country                                            issue  \\\n",
       "1469         Switzerland                 issue_city_environmental_justice   \n",
       "1288  Russian Federation             issue_city_civil_rights_and_freedoms   \n",
       "1466         Switzerland           issue_city_economic_and_workers_rights   \n",
       "1470         Switzerland          issue_city_immigrant_and_refugee_rights   \n",
       "1292  Russian Federation  issue_city_ending_violence_harassment_and_abuse   \n",
       "...                  ...                                              ...   \n",
       "1058             Morocco                     issue_city_disability_rights   \n",
       "1059             Morocco           issue_city_economic_and_workers_rights   \n",
       "1060             Morocco       issue_city_education_and_youth_empowerment   \n",
       "1061             Morocco  issue_city_ending_violence_harassment_and_abuse   \n",
       "0            Afghanistan                        issue_city_LGBTQI+_rights   \n",
       "\n",
       "      value  \n",
       "1469    879  \n",
       "1288    861  \n",
       "1466    817  \n",
       "1470    696  \n",
       "1292    674  \n",
       "...     ...  \n",
       "1058      0  \n",
       "1059      0  \n",
       "1060      0  \n",
       "1061      0  \n",
       "0         0  \n",
       "\n",
       "[1705 rows x 3 columns]"
      ]
     },
     "execution_count": 148,
     "metadata": {},
     "output_type": "execute_result"
    }
   ],
   "source": [
    "analysis_long.groupby(['country', 'issue']).sum().reset_index().sort_values(by = 'value',ascending = False)"
   ]
  },
  {
   "cell_type": "code",
   "execution_count": 149,
   "metadata": {},
   "outputs": [
    {
     "data": {
      "text/plain": [
       "value    2289\n",
       "dtype: int64"
      ]
     },
     "execution_count": 149,
     "metadata": {},
     "output_type": "execute_result"
    }
   ],
   "source": [
    "analysis_long.groupby(['country', 'issue']).sum().groupby('issue').get_group('issue_city_civil_rights_and_freedoms').sum()"
   ]
  },
  {
   "cell_type": "code",
   "execution_count": 141,
   "metadata": {},
   "outputs": [
    {
     "data": {
      "text/plain": [
       "2289"
      ]
     },
     "execution_count": 141,
     "metadata": {},
     "output_type": "execute_result"
    }
   ],
   "source": [
    "df['issue_city_civil_rights_and_freedoms'].sum()"
   ]
  },
  {
   "cell_type": "code",
   "execution_count": 154,
   "metadata": {},
   "outputs": [
    {
     "data": {
      "text/html": [
       "<div>\n",
       "<style scoped>\n",
       "    .dataframe tbody tr th:only-of-type {\n",
       "        vertical-align: middle;\n",
       "    }\n",
       "\n",
       "    .dataframe tbody tr th {\n",
       "        vertical-align: top;\n",
       "    }\n",
       "\n",
       "    .dataframe thead th {\n",
       "        text-align: right;\n",
       "    }\n",
       "</style>\n",
       "<table border=\"1\" class=\"dataframe\">\n",
       "  <thead>\n",
       "    <tr style=\"text-align: right;\">\n",
       "      <th></th>\n",
       "      <th></th>\n",
       "      <th>value</th>\n",
       "    </tr>\n",
       "    <tr>\n",
       "      <th>country</th>\n",
       "      <th>issue</th>\n",
       "      <th></th>\n",
       "    </tr>\n",
       "  </thead>\n",
       "  <tbody>\n",
       "    <tr>\n",
       "      <th rowspan=\"11\" valign=\"top\">Switzerland</th>\n",
       "      <th>issue_city_LGBTQI+_rights</th>\n",
       "      <td>227</td>\n",
       "    </tr>\n",
       "    <tr>\n",
       "      <th>issue_city_civil_rights_and_freedoms</th>\n",
       "      <td>490</td>\n",
       "    </tr>\n",
       "    <tr>\n",
       "      <th>issue_city_disability_rights</th>\n",
       "      <td>152</td>\n",
       "    </tr>\n",
       "    <tr>\n",
       "      <th>issue_city_economic_and_workers_rights</th>\n",
       "      <td>817</td>\n",
       "    </tr>\n",
       "    <tr>\n",
       "      <th>issue_city_education_and_youth_empowerment</th>\n",
       "      <td>385</td>\n",
       "    </tr>\n",
       "    <tr>\n",
       "      <th>issue_city_ending_violence_harassment_and_abuse</th>\n",
       "      <td>561</td>\n",
       "    </tr>\n",
       "    <tr>\n",
       "      <th>issue_city_environmental_justice</th>\n",
       "      <td>879</td>\n",
       "    </tr>\n",
       "    <tr>\n",
       "      <th>issue_city_immigrant_and_refugee_rights</th>\n",
       "      <td>696</td>\n",
       "    </tr>\n",
       "    <tr>\n",
       "      <th>issue_city_indigenous_andor_roma_rights</th>\n",
       "      <td>22</td>\n",
       "    </tr>\n",
       "    <tr>\n",
       "      <th>issue_city_racial_equity</th>\n",
       "      <td>487</td>\n",
       "    </tr>\n",
       "    <tr>\n",
       "      <th>issue_city_reproductive_freedom_and_bodily_autonomy</th>\n",
       "      <td>28</td>\n",
       "    </tr>\n",
       "  </tbody>\n",
       "</table>\n",
       "</div>"
      ],
      "text/plain": [
       "                                                                value\n",
       "country     issue                                                    \n",
       "Switzerland issue_city_LGBTQI+_rights                             227\n",
       "            issue_city_civil_rights_and_freedoms                  490\n",
       "            issue_city_disability_rights                          152\n",
       "            issue_city_economic_and_workers_rights                817\n",
       "            issue_city_education_and_youth_empowerment            385\n",
       "            issue_city_ending_violence_harassment_and_abuse       561\n",
       "            issue_city_environmental_justice                      879\n",
       "            issue_city_immigrant_and_refugee_rights               696\n",
       "            issue_city_indigenous_andor_roma_rights                22\n",
       "            issue_city_racial_equity                              487\n",
       "            issue_city_reproductive_freedom_and_bodily_auto...     28"
      ]
     },
     "execution_count": 154,
     "metadata": {},
     "output_type": "execute_result"
    }
   ],
   "source": [
    "analysis_long.groupby(['country', 'issue']).sum().groupby('country').get_group('Switzerland')"
   ]
  },
  {
   "cell_type": "code",
   "execution_count": 163,
   "metadata": {},
   "outputs": [
    {
     "data": {
      "text/plain": [
       "<AxesSubplot:title={'center':'Analysis of issues (local/city level)'}, ylabel='issue'>"
      ]
     },
     "execution_count": 163,
     "metadata": {},
     "output_type": "execute_result"
    },
    {
     "data": {
      "image/png": "[encoded data removed]",
      "text/plain": [
       "<Figure size 1080x720 with 1 Axes>"
      ]
     },
     "metadata": {
      "needs_background": "light"
     },
     "output_type": "display_data"
    }
   ],
   "source": [
    "analysis_long.groupby(['issue']).sum().sort_values(by = 'value', ascending = False).plot.barh(title='Analysis of issues (local/city level)', figsize=(15,10), fontsize=12)"
   ]
  },
  {
   "cell_type": "code",
   "execution_count": 166,
   "metadata": {},
   "outputs": [],
   "source": [
    "analysis = df.iloc[:,31:41]\n",
    "analysis['country'] = df.loc[:,'country_of_residence']"
   ]
  },
  {
   "cell_type": "code",
   "execution_count": 167,
   "metadata": {},
   "outputs": [],
   "source": [
    "analysis_long = analysis.melt(id_vars = 'country', var_name = 'issue')"
   ]
  },
  {
   "cell_type": "code",
   "execution_count": 168,
   "metadata": {},
   "outputs": [
    {
     "data": {
      "text/plain": [
       "<AxesSubplot:title={'center':'Analysis of issues (local/city level)'}, ylabel='issue'>"
      ]
     },
     "execution_count": 168,
     "metadata": {},
     "output_type": "execute_result"
    },
    {
     "data": {
      "image/png": "[encoded data removed]",
      "text/plain": [
       "<Figure size 1080x720 with 1 Axes>"
      ]
     },
     "metadata": {
      "needs_background": "light"
     },
     "output_type": "display_data"
    }
   ],
   "source": [
    "analysis_long.groupby(['issue']).sum().sort_values(by = 'value', ascending = False).plot.barh(title='Analysis of issues (global level)', figsize=(15,10), fontsize=12)"
   ]
  }
 ],
 "metadata": {
  "interpreter": {
   "hash": "a00b87f3dafb8c5b0afdf77add0e2432ad578e1240a81446720c0c7d6c46e214"
  },
  "kernelspec": {
   "display_name": "Python 3.9.10 64-bit (windows store)",
   "language": "python",
   "name": "python3"
  },
  "language_info": {
   "codemirror_mode": {
    "name": "ipython",
    "version": 3
   },
   "file_extension": ".py",
   "mimetype": "text/x-python",
   "name": "python",
   "nbconvert_exporter": "python",
   "pygments_lexer": "ipython3",
   "version": "3.9.10"
  },
  "orig_nbformat": 4
 },
 "nbformat": 4,
 "nbformat_minor": 2
}
